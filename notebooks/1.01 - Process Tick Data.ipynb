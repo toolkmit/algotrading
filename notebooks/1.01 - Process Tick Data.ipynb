{
 "cells": [
  {
   "cell_type": "code",
   "execution_count": 1,
   "metadata": {
    "collapsed": true
   },
   "outputs": [],
   "source": [
    "import datetime\n",
    "import os.path\n",
    "import sys\n",
    "\n",
    "import pandas as pd\n",
    "import numpy as np"
   ]
  },
  {
   "cell_type": "code",
   "execution_count": 2,
   "metadata": {},
   "outputs": [
    {
     "name": "stdout",
     "output_type": "stream",
     "text": [
      "Date and Time,Close,Open,Volume\r",
      "\r\n",
      "20060102 17:00:02.0000000,1255.25,1255.25,2\r",
      "\r\n",
      "20060102 17:00:04.0000000,1255.50,1255.50,3\r",
      "\r\n",
      "20060102 17:00:05.0000000,1255.25,1255.25,1\r",
      "\r\n",
      "20060102 17:00:08.0000000,1255.50,1255.50,5\r",
      "\r\n",
      "20060102 17:00:08.0000000,1255.50,1255.50,5\r",
      "\r\n",
      "20060102 17:00:08.0000000,1255.25,1255.25,1\r",
      "\r\n",
      "20060102 17:00:09.0000000,1255.50,1255.50,5\r",
      "\r\n",
      "20060102 17:00:10.0000000,1255.50,1255.50,8\r",
      "\r\n",
      "20060102 17:00:11.0000000,1255.50,1255.50,1\r",
      "\r\n"
     ]
    }
   ],
   "source": [
    "!head ../data/raw/ES2006tick.csv"
   ]
  },
  {
   "cell_type": "code",
   "execution_count": 3,
   "metadata": {},
   "outputs": [
    {
     "data": {
      "text/html": [
       "<div>\n",
       "<style>\n",
       "    .dataframe thead tr:only-child th {\n",
       "        text-align: right;\n",
       "    }\n",
       "\n",
       "    .dataframe thead th {\n",
       "        text-align: left;\n",
       "    }\n",
       "\n",
       "    .dataframe tbody tr th {\n",
       "        vertical-align: top;\n",
       "    }\n",
       "</style>\n",
       "<table border=\"1\" class=\"dataframe\">\n",
       "  <thead>\n",
       "    <tr style=\"text-align: right;\">\n",
       "      <th></th>\n",
       "      <th>last</th>\n",
       "      <th>volume</th>\n",
       "    </tr>\n",
       "    <tr>\n",
       "      <th>date</th>\n",
       "      <th></th>\n",
       "      <th></th>\n",
       "    </tr>\n",
       "  </thead>\n",
       "  <tbody>\n",
       "    <tr>\n",
       "      <th>2006-01-02 17:00:02-05:00</th>\n",
       "      <td>1255.25</td>\n",
       "      <td>2</td>\n",
       "    </tr>\n",
       "    <tr>\n",
       "      <th>2006-01-02 17:00:04-05:00</th>\n",
       "      <td>1255.50</td>\n",
       "      <td>3</td>\n",
       "    </tr>\n",
       "    <tr>\n",
       "      <th>2006-01-02 17:00:05-05:00</th>\n",
       "      <td>1255.25</td>\n",
       "      <td>1</td>\n",
       "    </tr>\n",
       "    <tr>\n",
       "      <th>2006-01-02 17:00:08-05:00</th>\n",
       "      <td>1255.50</td>\n",
       "      <td>5</td>\n",
       "    </tr>\n",
       "    <tr>\n",
       "      <th>2006-01-02 17:00:08-05:00</th>\n",
       "      <td>1255.50</td>\n",
       "      <td>5</td>\n",
       "    </tr>\n",
       "  </tbody>\n",
       "</table>\n",
       "</div>"
      ],
      "text/plain": [
       "                              last  volume\n",
       "date                                      \n",
       "2006-01-02 17:00:02-05:00  1255.25       2\n",
       "2006-01-02 17:00:04-05:00  1255.50       3\n",
       "2006-01-02 17:00:05-05:00  1255.25       1\n",
       "2006-01-02 17:00:08-05:00  1255.50       5\n",
       "2006-01-02 17:00:08-05:00  1255.50       5"
      ]
     },
     "execution_count": 3,
     "metadata": {},
     "output_type": "execute_result"
    }
   ],
   "source": [
    "path = '../data/raw/ES2006tick.csv'\n",
    "parse = lambda x: datetime.datetime.strptime(x[:-1],'%Y%m%d %H:%M:%S.%f')\n",
    "tick_data = pd.read_csv(path, usecols=['Date and Time', 'Close', 'Volume'], \n",
    "                        index_col='Date and Time', parse_dates=['Date and Time'],\n",
    "                        date_parser=parse,\n",
    "                        dtype={'Close': np.float32, 'Volume': np.int16})\n",
    "##Convert to EST\n",
    "tick_data.index = tick_data.index.tz_localize('US/Eastern')\n",
    "#tick_data = tick_data.tz_convert('US/Eastern')\n",
    "\n",
    "##Save to feather format -- need to make index a column (won't take the datetime)\n",
    "#tick_data.reset_index(inplace=True)\n",
    "tick_data.columns = ['last','volume']\n",
    "tick_data.index.rename('date', inplace=True)\n",
    "#tick_data.to_feather('../data/processed/ES_all_tick.feather')\n",
    "\n",
    "store = pd.HDFStore('../data/processed/store.h5')\n",
    "store.put('tick_data',tick_data)\n",
    "store.close()\n",
    "\n",
    "tick_data.head()"
   ]
  },
  {
   "cell_type": "code",
   "execution_count": null,
   "metadata": {
    "collapsed": true
   },
   "outputs": [],
   "source": [
    "td = pd.read_feather('../data/processed/ES_all_tick.feather')"
   ]
  },
  {
   "cell_type": "code",
   "execution_count": 11,
   "metadata": {
    "collapsed": true
   },
   "outputs": [],
   "source": [
    "store.close()"
   ]
  },
  {
   "cell_type": "code",
   "execution_count": 2,
   "metadata": {},
   "outputs": [
    {
     "data": {
      "text/html": [
       "<div>\n",
       "<style>\n",
       "    .dataframe thead tr:only-child th {\n",
       "        text-align: right;\n",
       "    }\n",
       "\n",
       "    .dataframe thead th {\n",
       "        text-align: left;\n",
       "    }\n",
       "\n",
       "    .dataframe tbody tr th {\n",
       "        vertical-align: top;\n",
       "    }\n",
       "</style>\n",
       "<table border=\"1\" class=\"dataframe\">\n",
       "  <thead>\n",
       "    <tr style=\"text-align: right;\">\n",
       "      <th></th>\n",
       "      <th>last</th>\n",
       "      <th>volume</th>\n",
       "    </tr>\n",
       "    <tr>\n",
       "      <th>date</th>\n",
       "      <th></th>\n",
       "      <th></th>\n",
       "    </tr>\n",
       "  </thead>\n",
       "  <tbody>\n",
       "    <tr>\n",
       "      <th>2006-01-02 17:00:02-05:00</th>\n",
       "      <td>1255.25</td>\n",
       "      <td>2</td>\n",
       "    </tr>\n",
       "    <tr>\n",
       "      <th>2006-01-02 17:00:04-05:00</th>\n",
       "      <td>1255.50</td>\n",
       "      <td>3</td>\n",
       "    </tr>\n",
       "    <tr>\n",
       "      <th>2006-01-02 17:00:05-05:00</th>\n",
       "      <td>1255.25</td>\n",
       "      <td>1</td>\n",
       "    </tr>\n",
       "    <tr>\n",
       "      <th>2006-01-02 17:00:08-05:00</th>\n",
       "      <td>1255.50</td>\n",
       "      <td>5</td>\n",
       "    </tr>\n",
       "    <tr>\n",
       "      <th>2006-01-02 17:00:08-05:00</th>\n",
       "      <td>1255.50</td>\n",
       "      <td>5</td>\n",
       "    </tr>\n",
       "  </tbody>\n",
       "</table>\n",
       "</div>"
      ],
      "text/plain": [
       "                              last  volume\n",
       "date                                      \n",
       "2006-01-02 17:00:02-05:00  1255.25       2\n",
       "2006-01-02 17:00:04-05:00  1255.50       3\n",
       "2006-01-02 17:00:05-05:00  1255.25       1\n",
       "2006-01-02 17:00:08-05:00  1255.50       5\n",
       "2006-01-02 17:00:08-05:00  1255.50       5"
      ]
     },
     "execution_count": 2,
     "metadata": {},
     "output_type": "execute_result"
    }
   ],
   "source": [
    "td = pd.read_hdf('../data/processed/store.h5', key='tick_data')\n",
    "td.head()"
   ]
  },
  {
   "cell_type": "code",
   "execution_count": 3,
   "metadata": {
    "collapsed": true
   },
   "outputs": [],
   "source": [
    "td['dv'] = td['last'] * td['volume']"
   ]
  },
  {
   "cell_type": "code",
   "execution_count": 4,
   "metadata": {},
   "outputs": [
    {
     "name": "stdout",
     "output_type": "stream",
     "text": [
      "<class 'pandas.core.frame.DataFrame'>\n",
      "DatetimeIndex: 918971351 entries, 2006-01-02 22:00:02-05:00 to 2018-06-22 19:59:59.802000-04:00\n",
      "Data columns (total 3 columns):\n",
      "last      float32\n",
      "volume    int16\n",
      "dv        float32\n",
      "dtypes: float32(2), int16(1)\n",
      "memory usage: 35.4 GB\n"
     ]
    }
   ],
   "source": [
    "td.info()"
   ]
  },
  {
   "cell_type": "code",
   "execution_count": 6,
   "metadata": {},
   "outputs": [
    {
     "name": "stdout",
     "output_type": "stream",
     "text": [
      "<class 'pandas.core.frame.DataFrame'>\n",
      "DatetimeIndex: 918971351 entries, 2006-01-02 22:00:02-05:00 to 2018-06-22 19:59:59.802000-04:00\n",
      "Data columns (total 3 columns):\n",
      "last      float16\n",
      "volume    int16\n",
      "dv        float16\n",
      "dtypes: float16(2), int16(1)\n",
      "memory usage: 32.0 GB\n"
     ]
    }
   ],
   "source": [
    "td = td.astype({'last': np.float16, 'volume': np.int16, 'dv': np.float16})\n",
    "td.info()"
   ]
  },
  {
   "cell_type": "code",
   "execution_count": 8,
   "metadata": {},
   "outputs": [],
   "source": [
    "store = pd.HDFStore('../data/processed/store.h5')\n",
    "store.put('tick_data_dv2_small',st)\n",
    "store.close()"
   ]
  },
  {
   "cell_type": "code",
   "execution_count": 7,
   "metadata": {
    "collapsed": true
   },
   "outputs": [],
   "source": [
    "tick_data = tick_data.set_index('Date')"
   ]
  },
  {
   "cell_type": "code",
   "execution_count": 7,
   "metadata": {},
   "outputs": [
    {
     "data": {
      "text/html": [
       "<div>\n",
       "<style>\n",
       "    .dataframe thead tr:only-child th {\n",
       "        text-align: right;\n",
       "    }\n",
       "\n",
       "    .dataframe thead th {\n",
       "        text-align: left;\n",
       "    }\n",
       "\n",
       "    .dataframe tbody tr th {\n",
       "        vertical-align: top;\n",
       "    }\n",
       "</style>\n",
       "<table border=\"1\" class=\"dataframe\">\n",
       "  <thead>\n",
       "    <tr style=\"text-align: right;\">\n",
       "      <th></th>\n",
       "      <th>last</th>\n",
       "      <th>volume</th>\n",
       "      <th>dv</th>\n",
       "    </tr>\n",
       "    <tr>\n",
       "      <th>date</th>\n",
       "      <th></th>\n",
       "      <th></th>\n",
       "      <th></th>\n",
       "    </tr>\n",
       "  </thead>\n",
       "  <tbody>\n",
       "    <tr>\n",
       "      <th>2018-01-01 17:00:00.087000-05:00</th>\n",
       "      <td>2675.25</td>\n",
       "      <td>680</td>\n",
       "      <td>1819170.00</td>\n",
       "    </tr>\n",
       "    <tr>\n",
       "      <th>2018-01-01 17:00:00.097000-05:00</th>\n",
       "      <td>2675.00</td>\n",
       "      <td>9</td>\n",
       "      <td>24075.00</td>\n",
       "    </tr>\n",
       "    <tr>\n",
       "      <th>2018-01-01 17:00:00.097000-05:00</th>\n",
       "      <td>2675.00</td>\n",
       "      <td>1</td>\n",
       "      <td>2675.00</td>\n",
       "    </tr>\n",
       "    <tr>\n",
       "      <th>2018-01-01 17:00:00.097000-05:00</th>\n",
       "      <td>2675.25</td>\n",
       "      <td>15</td>\n",
       "      <td>40128.75</td>\n",
       "    </tr>\n",
       "    <tr>\n",
       "      <th>2018-01-01 17:00:00.097000-05:00</th>\n",
       "      <td>2675.50</td>\n",
       "      <td>10</td>\n",
       "      <td>26755.00</td>\n",
       "    </tr>\n",
       "  </tbody>\n",
       "</table>\n",
       "</div>"
      ],
      "text/plain": [
       "                                     last  volume          dv\n",
       "date                                                         \n",
       "2018-01-01 17:00:00.087000-05:00  2675.25     680  1819170.00\n",
       "2018-01-01 17:00:00.097000-05:00  2675.00       9    24075.00\n",
       "2018-01-01 17:00:00.097000-05:00  2675.00       1     2675.00\n",
       "2018-01-01 17:00:00.097000-05:00  2675.25      15    40128.75\n",
       "2018-01-01 17:00:00.097000-05:00  2675.50      10    26755.00"
      ]
     },
     "execution_count": 7,
     "metadata": {},
     "output_type": "execute_result"
    }
   ],
   "source": [
    "st = td[td.index > '2017-12-31']\n",
    "st.head()"
   ]
  },
  {
   "cell_type": "code",
   "execution_count": 8,
   "metadata": {},
   "outputs": [
    {
     "name": "stdout",
     "output_type": "stream",
     "text": [
      "<class 'pandas.core.frame.DataFrame'>\n",
      "DatetimeIndex: 30468167 entries, 2018-01-01 22:00:00.087000-05:00 to 2018-06-22 19:59:59.802000-04:00\n",
      "Data columns (total 3 columns):\n",
      "last      float32\n",
      "volume    int16\n",
      "dv        float32\n",
      "dtypes: float32(2), int16(1)\n",
      "memory usage: 523.0 MB\n"
     ]
    }
   ],
   "source": [
    "st.info()"
   ]
  },
  {
   "cell_type": "code",
   "execution_count": null,
   "metadata": {
    "collapsed": true
   },
   "outputs": [],
   "source": []
  }
 ],
 "metadata": {
  "kernelspec": {
   "display_name": "Python 3",
   "language": "python",
   "name": "python3"
  },
  "language_info": {
   "codemirror_mode": {
    "name": "ipython",
    "version": 3
   },
   "file_extension": ".py",
   "mimetype": "text/x-python",
   "name": "python",
   "nbconvert_exporter": "python",
   "pygments_lexer": "ipython3",
   "version": "3.6.3"
  }
 },
 "nbformat": 4,
 "nbformat_minor": 2
}
