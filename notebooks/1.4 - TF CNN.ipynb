{
 "cells": [
  {
   "cell_type": "code",
   "execution_count": 1,
   "metadata": {},
   "outputs": [
    {
     "name": "stderr",
     "output_type": "stream",
     "text": [
      "/home/ubuntu/src/anaconda3/envs/tensorflow/lib/python3.6/site-packages/h5py/__init__.py:36: FutureWarning: Conversion of the second argument of issubdtype from `float` to `np.floating` is deprecated. In future, it will be treated as `np.float64 == np.dtype(float).type`.\n",
      "  from ._conv import register_converters as _register_converters\n",
      "Using TensorFlow backend.\n"
     ]
    },
    {
     "name": "stdout",
     "output_type": "stream",
     "text": [
      "Using matplotlib backend: Qt5Agg\n"
     ]
    }
   ],
   "source": [
    "import datetime\n",
    "\n",
    "import pandas as pd\n",
    "import numpy as np\n",
    "import matplotlib.pyplot as plt\n",
    "\n",
    "from keras.models import Sequential\n",
    "from keras.layers.core import Dense, Dropout, Activation, Flatten\n",
    "from keras.layers import Convolution1D, TimeDistributed, Conv2D, MaxPooling1D\n",
    "from keras.layers.recurrent import LSTM, GRU\n",
    "from keras.callbacks import ModelCheckpoint, ReduceLROnPlateau, CSVLogger\n",
    "from keras.layers.normalization import BatchNormalization\n",
    "from keras.layers.advanced_activations import *\n",
    "from keras.optimizers import Adam, Nadam\n",
    "\n",
    "%matplotlib"
   ]
  },
  {
   "cell_type": "markdown",
   "metadata": {},
   "source": [
    "## Import Tick Data and Create 5min RTH Bars"
   ]
  },
  {
   "cell_type": "code",
   "execution_count": 2,
   "metadata": {},
   "outputs": [
    {
     "data": {
      "text/html": [
       "<div>\n",
       "<style>\n",
       "    .dataframe thead tr:only-child th {\n",
       "        text-align: right;\n",
       "    }\n",
       "\n",
       "    .dataframe thead th {\n",
       "        text-align: left;\n",
       "    }\n",
       "\n",
       "    .dataframe tbody tr th {\n",
       "        vertical-align: top;\n",
       "    }\n",
       "</style>\n",
       "<table border=\"1\" class=\"dataframe\">\n",
       "  <thead>\n",
       "    <tr style=\"text-align: right;\">\n",
       "      <th></th>\n",
       "      <th>last</th>\n",
       "      <th>bid</th>\n",
       "      <th>ask</th>\n",
       "      <th>volume</th>\n",
       "    </tr>\n",
       "    <tr>\n",
       "      <th>date</th>\n",
       "      <th></th>\n",
       "      <th></th>\n",
       "      <th></th>\n",
       "      <th></th>\n",
       "    </tr>\n",
       "  </thead>\n",
       "  <tbody>\n",
       "    <tr>\n",
       "      <th>2018-01-25 19:54:52.612000-05:00</th>\n",
       "      <td>2844.0</td>\n",
       "      <td>2843.75</td>\n",
       "      <td>2844.0</td>\n",
       "      <td>1</td>\n",
       "    </tr>\n",
       "    <tr>\n",
       "      <th>2018-01-25 19:54:52.615000-05:00</th>\n",
       "      <td>2844.0</td>\n",
       "      <td>2843.75</td>\n",
       "      <td>2844.0</td>\n",
       "      <td>1</td>\n",
       "    </tr>\n",
       "    <tr>\n",
       "      <th>2018-01-25 19:54:54.157000-05:00</th>\n",
       "      <td>2844.0</td>\n",
       "      <td>2843.75</td>\n",
       "      <td>2844.0</td>\n",
       "      <td>1</td>\n",
       "    </tr>\n",
       "    <tr>\n",
       "      <th>2018-01-25 19:54:54.157000-05:00</th>\n",
       "      <td>2844.0</td>\n",
       "      <td>2843.75</td>\n",
       "      <td>2844.0</td>\n",
       "      <td>1</td>\n",
       "    </tr>\n",
       "    <tr>\n",
       "      <th>2018-01-25 19:54:55.332000-05:00</th>\n",
       "      <td>2844.0</td>\n",
       "      <td>2843.75</td>\n",
       "      <td>2844.0</td>\n",
       "      <td>2</td>\n",
       "    </tr>\n",
       "  </tbody>\n",
       "</table>\n",
       "</div>"
      ],
      "text/plain": [
       "                                    last      bid     ask  volume\n",
       "date                                                             \n",
       "2018-01-25 19:54:52.612000-05:00  2844.0  2843.75  2844.0       1\n",
       "2018-01-25 19:54:52.615000-05:00  2844.0  2843.75  2844.0       1\n",
       "2018-01-25 19:54:54.157000-05:00  2844.0  2843.75  2844.0       1\n",
       "2018-01-25 19:54:54.157000-05:00  2844.0  2843.75  2844.0       1\n",
       "2018-01-25 19:54:55.332000-05:00  2844.0  2843.75  2844.0       2"
      ]
     },
     "execution_count": 2,
     "metadata": {},
     "output_type": "execute_result"
    }
   ],
   "source": [
    "tick_data = pd.read_feather('../data/processed/ES_tick.feather')\n",
    "tick_data = tick_data[tick_data['date'] > '2017-07-29']\n",
    "#Create Index from date column\n",
    "tick_data.index = tick_data['date']\n",
    "tick_data.drop(labels=['date'],axis=1,inplace=True)\n",
    "tick_data.tail()"
   ]
  },
  {
   "cell_type": "code",
   "execution_count": 3,
   "metadata": {},
   "outputs": [
    {
     "data": {
      "text/html": [
       "<div>\n",
       "<style>\n",
       "    .dataframe thead tr:only-child th {\n",
       "        text-align: right;\n",
       "    }\n",
       "\n",
       "    .dataframe thead th {\n",
       "        text-align: left;\n",
       "    }\n",
       "\n",
       "    .dataframe tbody tr th {\n",
       "        vertical-align: top;\n",
       "    }\n",
       "</style>\n",
       "<table border=\"1\" class=\"dataframe\">\n",
       "  <thead>\n",
       "    <tr style=\"text-align: right;\">\n",
       "      <th></th>\n",
       "      <th>date</th>\n",
       "      <th>open</th>\n",
       "      <th>high</th>\n",
       "      <th>low</th>\n",
       "      <th>close</th>\n",
       "      <th>ema</th>\n",
       "    </tr>\n",
       "  </thead>\n",
       "  <tbody>\n",
       "    <tr>\n",
       "      <th>81</th>\n",
       "      <td>2017-08-01 09:35:00-04:00</td>\n",
       "      <td>2475.50</td>\n",
       "      <td>2476.00</td>\n",
       "      <td>2472.50</td>\n",
       "      <td>2473.50</td>\n",
       "      <td>2470.908594</td>\n",
       "    </tr>\n",
       "    <tr>\n",
       "      <th>82</th>\n",
       "      <td>2017-08-01 09:40:00-04:00</td>\n",
       "      <td>2473.50</td>\n",
       "      <td>2474.00</td>\n",
       "      <td>2471.50</td>\n",
       "      <td>2472.50</td>\n",
       "      <td>2471.060194</td>\n",
       "    </tr>\n",
       "    <tr>\n",
       "      <th>83</th>\n",
       "      <td>2017-08-01 09:45:00-04:00</td>\n",
       "      <td>2472.25</td>\n",
       "      <td>2473.25</td>\n",
       "      <td>2471.75</td>\n",
       "      <td>2473.00</td>\n",
       "      <td>2471.244978</td>\n",
       "    </tr>\n",
       "    <tr>\n",
       "      <th>84</th>\n",
       "      <td>2017-08-01 09:50:00-04:00</td>\n",
       "      <td>2473.00</td>\n",
       "      <td>2473.25</td>\n",
       "      <td>2472.00</td>\n",
       "      <td>2472.75</td>\n",
       "      <td>2471.388343</td>\n",
       "    </tr>\n",
       "    <tr>\n",
       "      <th>85</th>\n",
       "      <td>2017-08-01 09:55:00-04:00</td>\n",
       "      <td>2472.75</td>\n",
       "      <td>2473.00</td>\n",
       "      <td>2471.25</td>\n",
       "      <td>2471.25</td>\n",
       "      <td>2471.375165</td>\n",
       "    </tr>\n",
       "  </tbody>\n",
       "</table>\n",
       "</div>"
      ],
      "text/plain": [
       "                        date     open     high      low    close          ema\n",
       "81 2017-08-01 09:35:00-04:00  2475.50  2476.00  2472.50  2473.50  2470.908594\n",
       "82 2017-08-01 09:40:00-04:00  2473.50  2474.00  2471.50  2472.50  2471.060194\n",
       "83 2017-08-01 09:45:00-04:00  2472.25  2473.25  2471.75  2473.00  2471.244978\n",
       "84 2017-08-01 09:50:00-04:00  2473.00  2473.25  2472.00  2472.75  2471.388343\n",
       "85 2017-08-01 09:55:00-04:00  2472.75  2473.00  2471.25  2471.25  2471.375165"
      ]
     },
     "execution_count": 3,
     "metadata": {},
     "output_type": "execute_result"
    }
   ],
   "source": [
    "#Resample to get 5min bars\n",
    "five_min_data = pd.DataFrame(\n",
    "    tick_data['last'].resample('5Min', loffset=datetime.timedelta(minutes=5)).ohlc())\n",
    "\n",
    "import pandas_market_calendars as mcal\n",
    "#We hack the NYSE Calendar extending the close until 4:15\n",
    "class CMERTHCalendar(mcal.exchange_calendar_nyse.NYSEExchangeCalendar):\n",
    "    @property\n",
    "    def close_time(self):\n",
    "        return datetime.time(16, 15)\n",
    "    \n",
    "#Create RTH Calendar\n",
    "nyse = CMERTHCalendar()\n",
    "schedule = nyse.schedule(start_date=five_min_data.index.min(), \n",
    "                         end_date=five_min_data.index.max())\n",
    "\n",
    "#Filter out those bars that occur during RTH\n",
    "five_min_data['dates'] = pd.to_datetime(five_min_data.index.to_datetime().date)\n",
    "five_min_data['valid_date'] = five_min_data['dates'].isin(schedule.index)\n",
    "five_min_data['valid_time'] = False\n",
    "during_rth = five_min_data['valid_date'] & \\\n",
    "        (five_min_data.index > schedule.loc[five_min_data['dates'],'market_open']) & \\\n",
    "        (five_min_data.index <= schedule.loc[five_min_data['dates'],'market_close'])\n",
    "five_min_data.loc[during_rth, 'valid_time'] = True\n",
    "five_min_data = five_min_data[five_min_data['valid_time'] == True]\n",
    "five_min_data.drop(['dates','valid_date','valid_time'], axis=1, inplace=True)\n",
    "\n",
    "#Add ema\n",
    "five_min_data['ema'] = five_min_data['close'].ewm(span=20, min_periods=20).mean()\n",
    "\n",
    "#Reset index\n",
    "five_min_data.reset_index(inplace=True)\n",
    "\n",
    "five_min_data[81:].head()"
   ]
  },
  {
   "cell_type": "code",
   "execution_count": 83,
   "metadata": {},
   "outputs": [
    {
     "data": {
      "text/html": [
       "<div>\n",
       "<style>\n",
       "    .dataframe thead tr:only-child th {\n",
       "        text-align: right;\n",
       "    }\n",
       "\n",
       "    .dataframe thead th {\n",
       "        text-align: left;\n",
       "    }\n",
       "\n",
       "    .dataframe tbody tr th {\n",
       "        vertical-align: top;\n",
       "    }\n",
       "</style>\n",
       "<table border=\"1\" class=\"dataframe\">\n",
       "  <thead>\n",
       "    <tr style=\"text-align: right;\">\n",
       "      <th></th>\n",
       "      <th>date</th>\n",
       "      <th>open</th>\n",
       "      <th>high</th>\n",
       "      <th>low</th>\n",
       "      <th>close</th>\n",
       "      <th>ema</th>\n",
       "      <th>sin_time</th>\n",
       "      <th>cos_time</th>\n",
       "    </tr>\n",
       "  </thead>\n",
       "  <tbody>\n",
       "    <tr>\n",
       "      <th>0</th>\n",
       "      <td>2017-07-31 09:35:00-04:00</td>\n",
       "      <td>2474.75</td>\n",
       "      <td>2475.75</td>\n",
       "      <td>2474.00</td>\n",
       "      <td>2475.50</td>\n",
       "      <td>NaN</td>\n",
       "      <td>-0.402747</td>\n",
       "      <td>-0.915311</td>\n",
       "    </tr>\n",
       "    <tr>\n",
       "      <th>1</th>\n",
       "      <td>2017-07-31 09:40:00-04:00</td>\n",
       "      <td>2475.25</td>\n",
       "      <td>2476.00</td>\n",
       "      <td>2473.75</td>\n",
       "      <td>2475.50</td>\n",
       "      <td>NaN</td>\n",
       "      <td>-0.422618</td>\n",
       "      <td>-0.906308</td>\n",
       "    </tr>\n",
       "    <tr>\n",
       "      <th>2</th>\n",
       "      <td>2017-07-31 09:45:00-04:00</td>\n",
       "      <td>2475.75</td>\n",
       "      <td>2475.75</td>\n",
       "      <td>2474.50</td>\n",
       "      <td>2474.75</td>\n",
       "      <td>NaN</td>\n",
       "      <td>-0.442289</td>\n",
       "      <td>-0.896873</td>\n",
       "    </tr>\n",
       "    <tr>\n",
       "      <th>3</th>\n",
       "      <td>2017-07-31 09:50:00-04:00</td>\n",
       "      <td>2474.50</td>\n",
       "      <td>2475.00</td>\n",
       "      <td>2473.50</td>\n",
       "      <td>2473.75</td>\n",
       "      <td>NaN</td>\n",
       "      <td>-0.461749</td>\n",
       "      <td>-0.887011</td>\n",
       "    </tr>\n",
       "    <tr>\n",
       "      <th>4</th>\n",
       "      <td>2017-07-31 09:55:00-04:00</td>\n",
       "      <td>2474.00</td>\n",
       "      <td>2474.25</td>\n",
       "      <td>2472.75</td>\n",
       "      <td>2472.75</td>\n",
       "      <td>NaN</td>\n",
       "      <td>-0.480989</td>\n",
       "      <td>-0.876727</td>\n",
       "    </tr>\n",
       "  </tbody>\n",
       "</table>\n",
       "</div>"
      ],
      "text/plain": [
       "                       date     open     high      low    close  ema  \\\n",
       "0 2017-07-31 09:35:00-04:00  2474.75  2475.75  2474.00  2475.50  NaN   \n",
       "1 2017-07-31 09:40:00-04:00  2475.25  2476.00  2473.75  2475.50  NaN   \n",
       "2 2017-07-31 09:45:00-04:00  2475.75  2475.75  2474.50  2474.75  NaN   \n",
       "3 2017-07-31 09:50:00-04:00  2474.50  2475.00  2473.50  2473.75  NaN   \n",
       "4 2017-07-31 09:55:00-04:00  2474.00  2474.25  2472.75  2472.75  NaN   \n",
       "\n",
       "   sin_time  cos_time  \n",
       "0 -0.402747 -0.915311  \n",
       "1 -0.422618 -0.906308  \n",
       "2 -0.442289 -0.896873  \n",
       "3 -0.461749 -0.887011  \n",
       "4 -0.480989 -0.876727  "
      ]
     },
     "execution_count": 83,
     "metadata": {},
     "output_type": "execute_result"
    }
   ],
   "source": [
    "#Add column for number of seconds elapsed in trading day\n",
    "five_min_data['sec'] = (five_min_data['date'].values \n",
    "                        - five_min_data['date'].values.astype('datetime64[D]')) / np.timedelta64(1,'s')\n",
    "\n",
    "#Calculate sin & cos time\n",
    "#24hr time is a cyclical continuous feature\n",
    "seconds_in_day = 24*60*60\n",
    "five_min_data['sin_time'] = np.sin(2*np.pi*five_min_data['sec']/seconds_in_day)\n",
    "five_min_data['cos_time'] = np.cos(2*np.pi*five_min_data['sec']/seconds_in_day)\n",
    "\n",
    "five_min_data.drop('sec', axis=1, inplace=True)\n",
    "five_min_data.head()"
   ]
  },
  {
   "cell_type": "markdown",
   "metadata": {},
   "source": [
    "## Create Test / Train Datasets"
   ]
  },
  {
   "cell_type": "code",
   "execution_count": 2,
   "metadata": {},
   "outputs": [
    {
     "data": {
      "text/html": [
       "<div>\n",
       "<style>\n",
       "    .dataframe thead tr:only-child th {\n",
       "        text-align: right;\n",
       "    }\n",
       "\n",
       "    .dataframe thead th {\n",
       "        text-align: left;\n",
       "    }\n",
       "\n",
       "    .dataframe tbody tr th {\n",
       "        vertical-align: top;\n",
       "    }\n",
       "</style>\n",
       "<table border=\"1\" class=\"dataframe\">\n",
       "  <thead>\n",
       "    <tr style=\"text-align: right;\">\n",
       "      <th></th>\n",
       "      <th>date</th>\n",
       "      <th>open</th>\n",
       "      <th>high</th>\n",
       "      <th>low</th>\n",
       "      <th>close</th>\n",
       "      <th>ema</th>\n",
       "      <th>sin_time</th>\n",
       "      <th>cos_time</th>\n",
       "      <th>btc</th>\n",
       "      <th>stc</th>\n",
       "    </tr>\n",
       "  </thead>\n",
       "  <tbody>\n",
       "    <tr>\n",
       "      <th>0</th>\n",
       "      <td>2017-07-31 09:35:00-04:00</td>\n",
       "      <td>2474.75</td>\n",
       "      <td>2475.75</td>\n",
       "      <td>2474.00</td>\n",
       "      <td>2475.50</td>\n",
       "      <td>NaN</td>\n",
       "      <td>-0.402747</td>\n",
       "      <td>-0.915311</td>\n",
       "      <td>-104</td>\n",
       "      <td>96</td>\n",
       "    </tr>\n",
       "    <tr>\n",
       "      <th>1</th>\n",
       "      <td>2017-07-31 09:40:00-04:00</td>\n",
       "      <td>2475.25</td>\n",
       "      <td>2476.00</td>\n",
       "      <td>2473.75</td>\n",
       "      <td>2475.50</td>\n",
       "      <td>NaN</td>\n",
       "      <td>-0.422618</td>\n",
       "      <td>-0.906308</td>\n",
       "      <td>-104</td>\n",
       "      <td>96</td>\n",
       "    </tr>\n",
       "    <tr>\n",
       "      <th>2</th>\n",
       "      <td>2017-07-31 09:45:00-04:00</td>\n",
       "      <td>2475.75</td>\n",
       "      <td>2475.75</td>\n",
       "      <td>2474.50</td>\n",
       "      <td>2474.75</td>\n",
       "      <td>NaN</td>\n",
       "      <td>-0.442289</td>\n",
       "      <td>-0.896873</td>\n",
       "      <td>-104</td>\n",
       "      <td>96</td>\n",
       "    </tr>\n",
       "    <tr>\n",
       "      <th>3</th>\n",
       "      <td>2017-07-31 09:50:00-04:00</td>\n",
       "      <td>2474.50</td>\n",
       "      <td>2475.00</td>\n",
       "      <td>2473.50</td>\n",
       "      <td>2473.75</td>\n",
       "      <td>NaN</td>\n",
       "      <td>-0.461749</td>\n",
       "      <td>-0.887011</td>\n",
       "      <td>-104</td>\n",
       "      <td>96</td>\n",
       "    </tr>\n",
       "    <tr>\n",
       "      <th>4</th>\n",
       "      <td>2017-07-31 09:55:00-04:00</td>\n",
       "      <td>2474.00</td>\n",
       "      <td>2474.25</td>\n",
       "      <td>2472.75</td>\n",
       "      <td>2472.75</td>\n",
       "      <td>NaN</td>\n",
       "      <td>-0.480989</td>\n",
       "      <td>-0.876727</td>\n",
       "      <td>-104</td>\n",
       "      <td>96</td>\n",
       "    </tr>\n",
       "  </tbody>\n",
       "</table>\n",
       "</div>"
      ],
      "text/plain": [
       "                       date     open     high      low    close  ema  \\\n",
       "0 2017-07-31 09:35:00-04:00  2474.75  2475.75  2474.00  2475.50  NaN   \n",
       "1 2017-07-31 09:40:00-04:00  2475.25  2476.00  2473.75  2475.50  NaN   \n",
       "2 2017-07-31 09:45:00-04:00  2475.75  2475.75  2474.50  2474.75  NaN   \n",
       "3 2017-07-31 09:50:00-04:00  2474.50  2475.00  2473.50  2473.75  NaN   \n",
       "4 2017-07-31 09:55:00-04:00  2474.00  2474.25  2472.75  2472.75  NaN   \n",
       "\n",
       "   sin_time  cos_time  btc  stc  \n",
       "0 -0.402747 -0.915311 -104   96  \n",
       "1 -0.422618 -0.906308 -104   96  \n",
       "2 -0.442289 -0.896873 -104   96  \n",
       "3 -0.461749 -0.887011 -104   96  \n",
       "4 -0.480989 -0.876727 -104   96  "
      ]
     },
     "execution_count": 2,
     "metadata": {},
     "output_type": "execute_result"
    }
   ],
   "source": [
    "five_min_data = pd.read_feather('../data/processed/ES_TFCnn.feather')\n",
    "five_min_data.head()"
   ]
  },
  {
   "cell_type": "code",
   "execution_count": 44,
   "metadata": {},
   "outputs": [
    {
     "data": {
      "text/html": [
       "<div>\n",
       "<style>\n",
       "    .dataframe thead tr:only-child th {\n",
       "        text-align: right;\n",
       "    }\n",
       "\n",
       "    .dataframe thead th {\n",
       "        text-align: left;\n",
       "    }\n",
       "\n",
       "    .dataframe tbody tr th {\n",
       "        vertical-align: top;\n",
       "    }\n",
       "</style>\n",
       "<table border=\"1\" class=\"dataframe\">\n",
       "  <thead>\n",
       "    <tr style=\"text-align: right;\">\n",
       "      <th></th>\n",
       "      <th>date</th>\n",
       "      <th>open</th>\n",
       "      <th>high</th>\n",
       "      <th>low</th>\n",
       "      <th>close</th>\n",
       "      <th>ema</th>\n",
       "      <th>sin_time</th>\n",
       "      <th>cos_time</th>\n",
       "      <th>btc</th>\n",
       "      <th>stc</th>\n",
       "    </tr>\n",
       "  </thead>\n",
       "  <tbody>\n",
       "    <tr>\n",
       "      <th>0</th>\n",
       "      <td>2006-01-03 09:35:00-05:00</td>\n",
       "      <td>1259.00</td>\n",
       "      <td>1260.75</td>\n",
       "      <td>1259.00</td>\n",
       "      <td>1259.75</td>\n",
       "      <td>NaN</td>\n",
       "      <td>-0.625923</td>\n",
       "      <td>-0.779884</td>\n",
       "      <td>-104</td>\n",
       "      <td>96</td>\n",
       "    </tr>\n",
       "    <tr>\n",
       "      <th>1</th>\n",
       "      <td>2006-01-03 09:40:00-05:00</td>\n",
       "      <td>1259.50</td>\n",
       "      <td>1259.75</td>\n",
       "      <td>1258.50</td>\n",
       "      <td>1259.50</td>\n",
       "      <td>NaN</td>\n",
       "      <td>-0.642788</td>\n",
       "      <td>-0.766044</td>\n",
       "      <td>-104</td>\n",
       "      <td>96</td>\n",
       "    </tr>\n",
       "    <tr>\n",
       "      <th>2</th>\n",
       "      <td>2006-01-03 09:45:00-05:00</td>\n",
       "      <td>1259.25</td>\n",
       "      <td>1260.25</td>\n",
       "      <td>1259.25</td>\n",
       "      <td>1260.00</td>\n",
       "      <td>NaN</td>\n",
       "      <td>-0.659346</td>\n",
       "      <td>-0.751840</td>\n",
       "      <td>-104</td>\n",
       "      <td>96</td>\n",
       "    </tr>\n",
       "    <tr>\n",
       "      <th>3</th>\n",
       "      <td>2006-01-03 09:50:00-05:00</td>\n",
       "      <td>1259.75</td>\n",
       "      <td>1260.00</td>\n",
       "      <td>1258.50</td>\n",
       "      <td>1258.75</td>\n",
       "      <td>NaN</td>\n",
       "      <td>-0.675590</td>\n",
       "      <td>-0.737277</td>\n",
       "      <td>-104</td>\n",
       "      <td>96</td>\n",
       "    </tr>\n",
       "    <tr>\n",
       "      <th>4</th>\n",
       "      <td>2006-01-03 09:55:00-05:00</td>\n",
       "      <td>1259.00</td>\n",
       "      <td>1259.75</td>\n",
       "      <td>1257.50</td>\n",
       "      <td>1257.75</td>\n",
       "      <td>NaN</td>\n",
       "      <td>-0.691513</td>\n",
       "      <td>-0.722364</td>\n",
       "      <td>96</td>\n",
       "      <td>-104</td>\n",
       "    </tr>\n",
       "  </tbody>\n",
       "</table>\n",
       "</div>"
      ],
      "text/plain": [
       "                       date     open     high      low    close  ema  \\\n",
       "0 2006-01-03 09:35:00-05:00  1259.00  1260.75  1259.00  1259.75  NaN   \n",
       "1 2006-01-03 09:40:00-05:00  1259.50  1259.75  1258.50  1259.50  NaN   \n",
       "2 2006-01-03 09:45:00-05:00  1259.25  1260.25  1259.25  1260.00  NaN   \n",
       "3 2006-01-03 09:50:00-05:00  1259.75  1260.00  1258.50  1258.75  NaN   \n",
       "4 2006-01-03 09:55:00-05:00  1259.00  1259.75  1257.50  1257.75  NaN   \n",
       "\n",
       "   sin_time  cos_time  btc  stc  \n",
       "0 -0.625923 -0.779884 -104   96  \n",
       "1 -0.642788 -0.766044 -104   96  \n",
       "2 -0.659346 -0.751840 -104   96  \n",
       "3 -0.675590 -0.737277 -104   96  \n",
       "4 -0.691513 -0.722364   96 -104  "
      ]
     },
     "execution_count": 44,
     "metadata": {},
     "output_type": "execute_result"
    }
   ],
   "source": [
    "five_min_data = pd.read_hdf('../data/processed/store.h5', key='cnn_data')\n",
    "five_min_data.head()"
   ]
  },
  {
   "cell_type": "code",
   "execution_count": 23,
   "metadata": {},
   "outputs": [
    {
     "data": {
      "text/plain": [
       "(138960, 114266)"
      ]
     },
     "execution_count": 23,
     "metadata": {},
     "output_type": "execute_result"
    }
   ],
   "source": [
    "data[(data['stc']<0)].shape[0], data[(data['stc']>0)].shape[0]"
   ]
  },
  {
   "cell_type": "code",
   "execution_count": 46,
   "metadata": {},
   "outputs": [],
   "source": [
    "data = five_min_data[81:]\n",
    "\n",
    "openp = data['open'].tolist()\n",
    "highp = data['high'].tolist()\n",
    "lowp = data['low'].tolist()\n",
    "closep = data['close'].tolist()\n",
    "emap = data['ema'].tolist()\n",
    "sin_time = data['sin_time'].tolist()\n",
    "cos_time = data['cos_time'].tolist()\n",
    "btc = data['btc'].tolist()\n",
    "stc = data['stc'].tolist()"
   ]
  },
  {
   "cell_type": "code",
   "execution_count": 47,
   "metadata": {},
   "outputs": [],
   "source": [
    "mean = data.mean(axis=0)\n",
    "std = data.std(axis=0)"
   ]
  },
  {
   "cell_type": "code",
   "execution_count": 52,
   "metadata": {},
   "outputs": [],
   "source": [
    "WINDOW = 2 #Number of bars in a trading day\n",
    "EMB_SIZE = 7\n",
    "STEP = 1\n",
    "FORECAST = 1\n",
    "\n",
    "X, Y = [], []\n",
    "for i in range(0, len(data), STEP):\n",
    "    try:\n",
    "        o = openp[i:i+WINDOW]\n",
    "        h = highp[i:i+WINDOW]\n",
    "        l = lowp[i:i+WINDOW]\n",
    "        c = closep[i:i+WINDOW]\n",
    "        e = emap[i:i+WINDOW]\n",
    "        ct = cos_time[i:i+WINDOW]\n",
    "        st = sin_time[i:i+WINDOW]\n",
    "\n",
    "        o = (np.array(o) - mean['open']) / std['open']\n",
    "        h = (np.array(h) - mean['high']) / std['high']\n",
    "        l = (np.array(l) - mean['low']) / std['low']\n",
    "        c = (np.array(c) - mean['close']) / std['close']\n",
    "        e = (np.array(e) - mean['ema']) / std['ema']\n",
    "        \n",
    "        #o = np.array(o) / c[-1] \n",
    "        #h = np.array(h) / c[-1]\n",
    "        #l = np.array(l) / c[-1]\n",
    "        #e = np.array(e) / c[-1]\n",
    "        #c = np.array(c) / c[-1]\n",
    "\n",
    "        x_i = closep[i:i+WINDOW]\n",
    "        y_i = closep[(i+WINDOW-1)+FORECAST]  \n",
    "\n",
    "        last_close = x_i[-1]\n",
    "        next_close = y_i\n",
    "\n",
    "        if btc[i+WINDOW-1] > 0:\n",
    "            y_i = [1, 0]\n",
    "        else:\n",
    "            y_i = [0, 1]\n",
    "        \n",
    "        x_i = np.column_stack((o, h, l, c, e, ct, st))\n",
    "\n",
    "    except Exception as e:\n",
    "        #e.throw()\n",
    "        break\n",
    "\n",
    "    X.append(x_i)\n",
    "    Y.append(y_i)"
   ]
  },
  {
   "cell_type": "code",
   "execution_count": 53,
   "metadata": {},
   "outputs": [
    {
     "data": {
      "text/plain": [
       "array([[[ 1.45397935,  1.45203134,  1.4513892 ,  1.45093238,\n",
       "          1.44904328, -0.51877326, -0.85491187],\n",
       "        [ 1.45093051,  1.45304762,  1.45291365,  1.45448936,\n",
       "          1.44958962, -0.5       , -0.8660254 ]]])"
      ]
     },
     "execution_count": 53,
     "metadata": {},
     "output_type": "execute_result"
    }
   ],
   "source": [
    "# Let's split into train and test sets\n",
    "# Train Set will be from 8/1/17 through 12/31/17, Test Set 1/1/17 - 1/25/17\n",
    "p = 8547 #Manual split for now\n",
    "p = int(len(X) * 0.9)\n",
    "X, Y = np.array(X), np.array(Y)\n",
    "X_train = X[0:p]\n",
    "Y_train = Y[0:p]\n",
    "X_test = X[p:]\n",
    "Y_test = Y[p:]\n",
    "\n",
    "#We may want to shuffle the training data -- will look into this later\n",
    "def shuffle_in_unison(a, b):\n",
    "    # courtsey http://stackoverflow.com/users/190280/josh-bleecher-snyder\n",
    "    assert len(a) == len(b)\n",
    "    shuffled_a = np.empty(a.shape, dtype=a.dtype)\n",
    "    shuffled_b = np.empty(b.shape, dtype=b.dtype)\n",
    "    permutation = np.random.permutation(len(a))\n",
    "    for old_index, new_index in enumerate(permutation):\n",
    "        shuffled_a[new_index] = a[old_index]\n",
    "        shuffled_b[new_index] = b[old_index]\n",
    "    return shuffled_a, shuffled_b\n",
    "\n",
    "#X_train, Y_train = shuffle_in_unison(X_train, Y_train)\n",
    "\n",
    "# Not sure why this is needed, but we apply it anyway\n",
    "X_train = np.reshape(X_train, (X_train.shape[0], 1, X_train.shape[1], EMB_SIZE))\n",
    "X_test = np.reshape(X_test, (X_test.shape[0], 1, X_test.shape[1], EMB_SIZE))\n",
    "X_train[-1]"
   ]
  },
  {
   "cell_type": "markdown",
   "metadata": {},
   "source": [
    "## Train CNN Model"
   ]
  },
  {
   "cell_type": "code",
   "execution_count": 52,
   "metadata": {},
   "outputs": [
    {
     "name": "stdout",
     "output_type": "stream",
     "text": [
      "_________________________________________________________________\n",
      "Layer (type)                 Output Shape              Param #   \n",
      "=================================================================\n",
      "time_distributed_53 (TimeDis (None, None, 270, 480, 32 4736      \n",
      "=================================================================\n",
      "Total params: 4,736\n",
      "Trainable params: 4,736\n",
      "Non-trainable params: 0\n",
      "_________________________________________________________________\n"
     ]
    }
   ],
   "source": [
    "model = Sequential()\n",
    "\n",
    "model.add(\n",
    "    TimeDistributed(\n",
    "        Conv2D(32, (7, 7), padding='same', strides=2),\n",
    "        input_shape=(None, 540, 960, 2)))\n",
    "model.summary()"
   ]
  },
  {
   "cell_type": "code",
   "execution_count": 59,
   "metadata": {},
   "outputs": [
    {
     "ename": "ValueError",
     "evalue": "If a RNN is stateful, it needs to know its batch size. Specify the batch size of your input tensors: \n- If using a Sequential model, specify the batch size by passing a `batch_input_shape` argument to your first layer.\n- If using the functional API, specify the batch size by passing a `batch_shape` argument to your Input layer.",
     "output_type": "error",
     "traceback": [
      "\u001b[0;31m---------------------------------------------------------------------------\u001b[0m",
      "\u001b[0;31mValueError\u001b[0m                                Traceback (most recent call last)",
      "\u001b[0;32m<ipython-input-59-6328f3a7f185>\u001b[0m in \u001b[0;36m<module>\u001b[0;34m()\u001b[0m\n\u001b[1;32m     21\u001b[0m \u001b[0mmodel\u001b[0m\u001b[0;34m.\u001b[0m\u001b[0madd\u001b[0m\u001b[0;34m(\u001b[0m\u001b[0mTimeDistributed\u001b[0m\u001b[0;34m(\u001b[0m\u001b[0mLeakyReLU\u001b[0m\u001b[0;34m(\u001b[0m\u001b[0;34m)\u001b[0m\u001b[0;34m)\u001b[0m\u001b[0;34m)\u001b[0m\u001b[0;34m\u001b[0m\u001b[0m\n\u001b[1;32m     22\u001b[0m \u001b[0;34m\u001b[0m\u001b[0m\n\u001b[0;32m---> 23\u001b[0;31m \u001b[0mmodel\u001b[0m\u001b[0;34m.\u001b[0m\u001b[0madd\u001b[0m\u001b[0;34m(\u001b[0m\u001b[0mLSTM\u001b[0m\u001b[0;34m(\u001b[0m\u001b[0;36m32\u001b[0m\u001b[0;34m,\u001b[0m \u001b[0mdropout\u001b[0m\u001b[0;34m=\u001b[0m\u001b[0;36m0\u001b[0m\u001b[0;34m,\u001b[0m \u001b[0mstateful\u001b[0m\u001b[0;34m=\u001b[0m\u001b[0;32mTrue\u001b[0m\u001b[0;34m)\u001b[0m\u001b[0;34m)\u001b[0m\u001b[0;34m\u001b[0m\u001b[0m\n\u001b[0m\u001b[1;32m     24\u001b[0m \u001b[0mmodel\u001b[0m\u001b[0;34m.\u001b[0m\u001b[0madd\u001b[0m\u001b[0;34m(\u001b[0m\u001b[0mDropout\u001b[0m\u001b[0;34m(\u001b[0m\u001b[0;36m0\u001b[0m\u001b[0;34m)\u001b[0m\u001b[0;34m)\u001b[0m\u001b[0;34m\u001b[0m\u001b[0m\n\u001b[1;32m     25\u001b[0m \u001b[0;34m\u001b[0m\u001b[0m\n",
      "\u001b[0;32m~/src/anaconda3/envs/tensorflow/lib/python3.6/site-packages/keras/models.py\u001b[0m in \u001b[0;36madd\u001b[0;34m(self, layer)\u001b[0m\n\u001b[1;32m    520\u001b[0m                           output_shapes=[self.outputs[0]._keras_shape])\n\u001b[1;32m    521\u001b[0m         \u001b[0;32melse\u001b[0m\u001b[0;34m:\u001b[0m\u001b[0;34m\u001b[0m\u001b[0m\n\u001b[0;32m--> 522\u001b[0;31m             \u001b[0moutput_tensor\u001b[0m \u001b[0;34m=\u001b[0m \u001b[0mlayer\u001b[0m\u001b[0;34m(\u001b[0m\u001b[0mself\u001b[0m\u001b[0;34m.\u001b[0m\u001b[0moutputs\u001b[0m\u001b[0;34m[\u001b[0m\u001b[0;36m0\u001b[0m\u001b[0;34m]\u001b[0m\u001b[0;34m)\u001b[0m\u001b[0;34m\u001b[0m\u001b[0m\n\u001b[0m\u001b[1;32m    523\u001b[0m             \u001b[0;32mif\u001b[0m \u001b[0misinstance\u001b[0m\u001b[0;34m(\u001b[0m\u001b[0moutput_tensor\u001b[0m\u001b[0;34m,\u001b[0m \u001b[0mlist\u001b[0m\u001b[0;34m)\u001b[0m\u001b[0;34m:\u001b[0m\u001b[0;34m\u001b[0m\u001b[0m\n\u001b[1;32m    524\u001b[0m                 raise TypeError('All layers in a Sequential model '\n",
      "\u001b[0;32m~/src/anaconda3/envs/tensorflow/lib/python3.6/site-packages/keras/layers/recurrent.py\u001b[0m in \u001b[0;36m__call__\u001b[0;34m(self, inputs, initial_state, constants, **kwargs)\u001b[0m\n\u001b[1;32m    498\u001b[0m \u001b[0;34m\u001b[0m\u001b[0m\n\u001b[1;32m    499\u001b[0m         \u001b[0;32mif\u001b[0m \u001b[0minitial_state\u001b[0m \u001b[0;32mis\u001b[0m \u001b[0;32mNone\u001b[0m \u001b[0;32mand\u001b[0m \u001b[0mconstants\u001b[0m \u001b[0;32mis\u001b[0m \u001b[0;32mNone\u001b[0m\u001b[0;34m:\u001b[0m\u001b[0;34m\u001b[0m\u001b[0m\n\u001b[0;32m--> 500\u001b[0;31m             \u001b[0;32mreturn\u001b[0m \u001b[0msuper\u001b[0m\u001b[0;34m(\u001b[0m\u001b[0mRNN\u001b[0m\u001b[0;34m,\u001b[0m \u001b[0mself\u001b[0m\u001b[0;34m)\u001b[0m\u001b[0;34m.\u001b[0m\u001b[0m__call__\u001b[0m\u001b[0;34m(\u001b[0m\u001b[0minputs\u001b[0m\u001b[0;34m,\u001b[0m \u001b[0;34m**\u001b[0m\u001b[0mkwargs\u001b[0m\u001b[0;34m)\u001b[0m\u001b[0;34m\u001b[0m\u001b[0m\n\u001b[0m\u001b[1;32m    501\u001b[0m \u001b[0;34m\u001b[0m\u001b[0m\n\u001b[1;32m    502\u001b[0m         \u001b[0;31m# If any of `initial_state` or `constants` are specified and are Keras\u001b[0m\u001b[0;34m\u001b[0m\u001b[0;34m\u001b[0m\u001b[0m\n",
      "\u001b[0;32m~/src/anaconda3/envs/tensorflow/lib/python3.6/site-packages/keras/engine/topology.py\u001b[0m in \u001b[0;36m__call__\u001b[0;34m(self, inputs, **kwargs)\u001b[0m\n\u001b[1;32m    590\u001b[0m                                          '`layer.build(batch_input_shape)`')\n\u001b[1;32m    591\u001b[0m                 \u001b[0;32mif\u001b[0m \u001b[0mlen\u001b[0m\u001b[0;34m(\u001b[0m\u001b[0minput_shapes\u001b[0m\u001b[0;34m)\u001b[0m \u001b[0;34m==\u001b[0m \u001b[0;36m1\u001b[0m\u001b[0;34m:\u001b[0m\u001b[0;34m\u001b[0m\u001b[0m\n\u001b[0;32m--> 592\u001b[0;31m                     \u001b[0mself\u001b[0m\u001b[0;34m.\u001b[0m\u001b[0mbuild\u001b[0m\u001b[0;34m(\u001b[0m\u001b[0minput_shapes\u001b[0m\u001b[0;34m[\u001b[0m\u001b[0;36m0\u001b[0m\u001b[0;34m]\u001b[0m\u001b[0;34m)\u001b[0m\u001b[0;34m\u001b[0m\u001b[0m\n\u001b[0m\u001b[1;32m    593\u001b[0m                 \u001b[0;32melse\u001b[0m\u001b[0;34m:\u001b[0m\u001b[0;34m\u001b[0m\u001b[0m\n\u001b[1;32m    594\u001b[0m                     \u001b[0mself\u001b[0m\u001b[0;34m.\u001b[0m\u001b[0mbuild\u001b[0m\u001b[0;34m(\u001b[0m\u001b[0minput_shapes\u001b[0m\u001b[0;34m)\u001b[0m\u001b[0;34m\u001b[0m\u001b[0m\n",
      "\u001b[0;32m~/src/anaconda3/envs/tensorflow/lib/python3.6/site-packages/keras/layers/recurrent.py\u001b[0m in \u001b[0;36mbuild\u001b[0;34m(self, input_shape)\u001b[0m\n\u001b[1;32m    479\u001b[0m                                for dim in state_size]\n\u001b[1;32m    480\u001b[0m         \u001b[0;32mif\u001b[0m \u001b[0mself\u001b[0m\u001b[0;34m.\u001b[0m\u001b[0mstateful\u001b[0m\u001b[0;34m:\u001b[0m\u001b[0;34m\u001b[0m\u001b[0m\n\u001b[0;32m--> 481\u001b[0;31m             \u001b[0mself\u001b[0m\u001b[0;34m.\u001b[0m\u001b[0mreset_states\u001b[0m\u001b[0;34m(\u001b[0m\u001b[0;34m)\u001b[0m\u001b[0;34m\u001b[0m\u001b[0m\n\u001b[0m\u001b[1;32m    482\u001b[0m         \u001b[0mself\u001b[0m\u001b[0;34m.\u001b[0m\u001b[0mbuilt\u001b[0m \u001b[0;34m=\u001b[0m \u001b[0;32mTrue\u001b[0m\u001b[0;34m\u001b[0m\u001b[0m\n\u001b[1;32m    483\u001b[0m \u001b[0;34m\u001b[0m\u001b[0m\n",
      "\u001b[0;32m~/src/anaconda3/envs/tensorflow/lib/python3.6/site-packages/keras/layers/recurrent.py\u001b[0m in \u001b[0;36mreset_states\u001b[0;34m(self, states)\u001b[0m\n\u001b[1;32m    639\u001b[0m         \u001b[0mbatch_size\u001b[0m \u001b[0;34m=\u001b[0m \u001b[0mself\u001b[0m\u001b[0;34m.\u001b[0m\u001b[0minput_spec\u001b[0m\u001b[0;34m[\u001b[0m\u001b[0;36m0\u001b[0m\u001b[0;34m]\u001b[0m\u001b[0;34m.\u001b[0m\u001b[0mshape\u001b[0m\u001b[0;34m[\u001b[0m\u001b[0;36m0\u001b[0m\u001b[0;34m]\u001b[0m\u001b[0;34m\u001b[0m\u001b[0m\n\u001b[1;32m    640\u001b[0m         \u001b[0;32mif\u001b[0m \u001b[0;32mnot\u001b[0m \u001b[0mbatch_size\u001b[0m\u001b[0;34m:\u001b[0m\u001b[0;34m\u001b[0m\u001b[0m\n\u001b[0;32m--> 641\u001b[0;31m             raise ValueError('If a RNN is stateful, it needs to know '\n\u001b[0m\u001b[1;32m    642\u001b[0m                              \u001b[0;34m'its batch size. Specify the batch size '\u001b[0m\u001b[0;34m\u001b[0m\u001b[0m\n\u001b[1;32m    643\u001b[0m                              \u001b[0;34m'of your input tensors: \\n'\u001b[0m\u001b[0;34m\u001b[0m\u001b[0m\n",
      "\u001b[0;31mValueError\u001b[0m: If a RNN is stateful, it needs to know its batch size. Specify the batch size of your input tensors: \n- If using a Sequential model, specify the batch size by passing a `batch_input_shape` argument to your first layer.\n- If using the functional API, specify the batch size by passing a `batch_shape` argument to your Input layer."
     ]
    }
   ],
   "source": [
    "model = Sequential()\n",
    "model.add(TimeDistributed(Convolution1D(filters=16,\n",
    "                                        kernel_size=4,\n",
    "                                        padding='same'),\n",
    "                          input_shape = (None, WINDOW, EMB_SIZE)))\n",
    "model.add(TimeDistributed(BatchNormalization()))\n",
    "model.add(TimeDistributed(LeakyReLU()))\n",
    "model.add(TimeDistributed(Dropout(0.5)))\n",
    "\n",
    "model.add(TimeDistributed(Convolution1D(filters=8,\n",
    "                        kernel_size=4,\n",
    "                        padding='same')))\n",
    "model.add(TimeDistributed(BatchNormalization()))\n",
    "model.add(TimeDistributed(LeakyReLU()))\n",
    "model.add(TimeDistributed(Dropout(0.5)))\n",
    "\n",
    "model.add(TimeDistributed(Flatten()))\n",
    "\n",
    "model.add(TimeDistributed((Dense(32))))\n",
    "model.add(TimeDistributed(BatchNormalization()))\n",
    "model.add(TimeDistributed(LeakyReLU()))\n",
    "\n",
    "model.add(LSTM(32, dropout=0, stateful=False))\n",
    "model.add(Dropout(0))\n",
    "\n",
    "model.add(Dense(2))\n",
    "model.add(Activation('softmax'))\n",
    "print(model.summary())"
   ]
  },
  {
   "cell_type": "code",
   "execution_count": 175,
   "metadata": {},
   "outputs": [
    {
     "name": "stdout",
     "output_type": "stream",
     "text": [
      "_________________________________________________________________\n",
      "Layer (type)                 Output Shape              Param #   \n",
      "=================================================================\n",
      "conv1d_65 (Conv1D)           (None, 64, 16)            464       \n",
      "_________________________________________________________________\n",
      "batch_normalization_94 (Batc (None, 64, 16)            64        \n",
      "_________________________________________________________________\n",
      "leaky_re_lu_97 (LeakyReLU)   (None, 64, 16)            0         \n",
      "_________________________________________________________________\n",
      "dropout_65 (Dropout)         (None, 64, 16)            0         \n",
      "_________________________________________________________________\n",
      "conv1d_66 (Conv1D)           (None, 64, 8)             520       \n",
      "_________________________________________________________________\n",
      "batch_normalization_95 (Batc (None, 64, 8)             32        \n",
      "_________________________________________________________________\n",
      "leaky_re_lu_98 (LeakyReLU)   (None, 64, 8)             0         \n",
      "_________________________________________________________________\n",
      "dropout_66 (Dropout)         (None, 64, 8)             0         \n",
      "_________________________________________________________________\n",
      "flatten_33 (Flatten)         (None, 512)               0         \n",
      "_________________________________________________________________\n",
      "dense_65 (Dense)             (None, 32)                16416     \n",
      "_________________________________________________________________\n",
      "batch_normalization_96 (Batc (None, 32)                128       \n",
      "_________________________________________________________________\n",
      "leaky_re_lu_99 (LeakyReLU)   (None, 32)                0         \n",
      "_________________________________________________________________\n",
      "dense_66 (Dense)             (None, 2)                 66        \n",
      "_________________________________________________________________\n",
      "activation_33 (Activation)   (None, 2)                 0         \n",
      "=================================================================\n",
      "Total params: 17,690\n",
      "Trainable params: 17,578\n",
      "Non-trainable params: 112\n",
      "_________________________________________________________________\n"
     ]
    }
   ],
   "source": [
    "model = Sequential()\n",
    "model.add(Convolution1D(input_shape = (WINDOW, EMB_SIZE),\n",
    "                        filters=16,\n",
    "                        kernel_size=4,\n",
    "                        padding='same'))\n",
    "model.add(BatchNormalization())\n",
    "model.add(LeakyReLU())\n",
    "#model.add(MaxPooling1D(strides=1))\n",
    "model.add(Dropout(0.5))\n",
    "\n",
    "model.add(Convolution1D(filters=8,\n",
    "                        kernel_size=4,\n",
    "                        padding='same'))\n",
    "model.add(BatchNormalization())\n",
    "model.add(LeakyReLU())\n",
    "#model.add(MaxPooling1D(strides=1))\n",
    "model.add(Dropout(0.5))\n",
    "\n",
    "model.add(Flatten())\n",
    "\n",
    "model.add(Dense(32))\n",
    "model.add(BatchNormalization())\n",
    "model.add(LeakyReLU())\n",
    "\n",
    "\n",
    "model.add(Dense(2))\n",
    "model.add(Activation('softmax'))\n",
    "model.summary()"
   ]
  },
  {
   "cell_type": "code",
   "execution_count": 55,
   "metadata": {},
   "outputs": [
    {
     "name": "stdout",
     "output_type": "stream",
     "text": [
      "Train on 227901 samples, validate on 25323 samples\n",
      "Epoch 1/25\n",
      "227901/227901 [==============================] - 10s 46us/step - loss: 0.6938 - acc: 0.5066 - val_loss: 0.6935 - val_acc: 0.4989\n",
      "\n",
      "Epoch 00001: val_loss improved from inf to 0.69354, saving model to model.hdf5\n",
      "Epoch 2/25\n",
      "227901/227901 [==============================] - 8s 36us/step - loss: 0.6927 - acc: 0.5112 - val_loss: 0.6950 - val_acc: 0.4988\n",
      "\n",
      "Epoch 00002: val_loss did not improve from 0.69354\n",
      "Epoch 3/25\n",
      "227901/227901 [==============================] - 8s 36us/step - loss: 0.6912 - acc: 0.5260 - val_loss: 0.7021 - val_acc: 0.5075\n",
      "\n",
      "Epoch 00003: val_loss did not improve from 0.69354\n",
      "Epoch 4/25\n",
      "227901/227901 [==============================] - 9s 38us/step - loss: 0.6885 - acc: 0.5402 - val_loss: 0.7050 - val_acc: 0.5075\n",
      "\n",
      "Epoch 00004: val_loss did not improve from 0.69354\n",
      "Epoch 5/25\n",
      "227901/227901 [==============================] - 8s 37us/step - loss: 0.6845 - acc: 0.5553 - val_loss: 0.7001 - val_acc: 0.5075\n",
      "\n",
      "Epoch 00005: val_loss did not improve from 0.69354\n",
      "Epoch 6/25\n",
      "227901/227901 [==============================] - 9s 38us/step - loss: 0.6822 - acc: 0.5621 - val_loss: 0.7035 - val_acc: 0.5075\n",
      "\n",
      "Epoch 00006: val_loss did not improve from 0.69354\n",
      "Epoch 7/25\n",
      "227901/227901 [==============================] - 9s 38us/step - loss: 0.6804 - acc: 0.5671 - val_loss: 0.6995 - val_acc: 0.5075\n",
      "\n",
      "Epoch 00007: val_loss did not improve from 0.69354\n",
      "Epoch 8/25\n",
      "227901/227901 [==============================] - 9s 38us/step - loss: 0.6789 - acc: 0.5699 - val_loss: 0.7049 - val_acc: 0.5075\n",
      "\n",
      "Epoch 00008: val_loss did not improve from 0.69354\n",
      "Epoch 9/25\n",
      "227901/227901 [==============================] - 9s 39us/step - loss: 0.6777 - acc: 0.5722 - val_loss: 0.7454 - val_acc: 0.5075\n",
      "\n",
      "Epoch 00009: val_loss did not improve from 0.69354\n",
      "Epoch 10/25\n",
      "227901/227901 [==============================] - 9s 39us/step - loss: 0.6765 - acc: 0.5735 - val_loss: 0.6999 - val_acc: 0.5075\n",
      "\n",
      "Epoch 00010: val_loss did not improve from 0.69354\n",
      "Epoch 11/25\n",
      "227901/227901 [==============================] - 9s 41us/step - loss: 0.6759 - acc: 0.5731 - val_loss: 0.6988 - val_acc: 0.5075\n",
      "\n",
      "Epoch 00011: val_loss did not improve from 0.69354\n",
      "Epoch 12/25\n",
      "227901/227901 [==============================] - 9s 40us/step - loss: 0.6750 - acc: 0.5746 - val_loss: 0.6999 - val_acc: 0.5075\n",
      "\n",
      "Epoch 00012: val_loss did not improve from 0.69354\n",
      "Epoch 13/25\n",
      "227901/227901 [==============================] - 10s 45us/step - loss: 0.6745 - acc: 0.5734 - val_loss: 0.6993 - val_acc: 0.5075\n",
      "\n",
      "Epoch 00013: val_loss did not improve from 0.69354\n",
      "Epoch 14/25\n",
      "227901/227901 [==============================] - 10s 43us/step - loss: 0.6734 - acc: 0.5742 - val_loss: 0.6995 - val_acc: 0.5075\n",
      "\n",
      "Epoch 00014: val_loss did not improve from 0.69354\n",
      "Epoch 15/25\n",
      "227901/227901 [==============================] - 10s 42us/step - loss: 0.6726 - acc: 0.5744 - val_loss: 0.6964 - val_acc: 0.5075\n",
      "\n",
      "Epoch 00015: val_loss did not improve from 0.69354\n",
      "Epoch 16/25\n",
      "227901/227901 [==============================] - 10s 43us/step - loss: 0.6714 - acc: 0.5757 - val_loss: 0.7871 - val_acc: 0.5075\n",
      "\n",
      "Epoch 00016: val_loss did not improve from 0.69354\n",
      "Epoch 17/25\n",
      "227901/227901 [==============================] - 10s 45us/step - loss: 0.6705 - acc: 0.5745 - val_loss: 0.9257 - val_acc: 0.5075\n",
      "\n",
      "Epoch 00017: val_loss did not improve from 0.69354\n",
      "Epoch 18/25\n",
      "227901/227901 [==============================] - 9s 40us/step - loss: 0.6696 - acc: 0.5753 - val_loss: 0.8390 - val_acc: 0.5075\n",
      "\n",
      "Epoch 00018: val_loss did not improve from 0.69354\n",
      "Epoch 19/25\n",
      "227901/227901 [==============================] - 9s 40us/step - loss: 0.6683 - acc: 0.5754 - val_loss: 0.8734 - val_acc: 0.5075\n",
      "\n",
      "Epoch 00019: val_loss did not improve from 0.69354\n",
      "Epoch 20/25\n",
      "227901/227901 [==============================] - 8s 36us/step - loss: 0.6672 - acc: 0.5766 - val_loss: 1.0506 - val_acc: 0.5075\n",
      "\n",
      "Epoch 00020: val_loss did not improve from 0.69354\n",
      "Epoch 21/25\n",
      "227901/227901 [==============================] - 8s 36us/step - loss: 0.6663 - acc: 0.5784 - val_loss: 0.9390 - val_acc: 0.5075\n",
      "\n",
      "Epoch 00021: val_loss did not improve from 0.69354\n",
      "Epoch 22/25\n",
      "227901/227901 [==============================] - 8s 36us/step - loss: 0.6656 - acc: 0.5793 - val_loss: 0.9919 - val_acc: 0.5075\n",
      "\n",
      "Epoch 00022: val_loss did not improve from 0.69354\n",
      "Epoch 23/25\n",
      "227901/227901 [==============================] - 8s 35us/step - loss: 0.6647 - acc: 0.5819 - val_loss: 1.1085 - val_acc: 0.5075\n",
      "\n",
      "Epoch 00023: val_loss did not improve from 0.69354\n",
      "Epoch 24/25\n",
      "227901/227901 [==============================] - 8s 36us/step - loss: 0.6637 - acc: 0.5821 - val_loss: 1.0271 - val_acc: 0.5075\n",
      "\n",
      "Epoch 00024: val_loss did not improve from 0.69354\n",
      "Epoch 25/25\n",
      "227901/227901 [==============================] - 8s 35us/step - loss: 0.6632 - acc: 0.5837 - val_loss: 1.0322 - val_acc: 0.5075\n",
      "\n",
      "Epoch 00025: val_loss did not improve from 0.69354\n"
     ]
    }
   ],
   "source": [
    "opt = Nadam(lr=0.0001)\n",
    "\n",
    "reduce_lr = ReduceLROnPlateau(monitor='val_acc', factor=0.9, patience=30, min_lr=0.000001, verbose=1)\n",
    "checkpointer = ModelCheckpoint(filepath=\"model.hdf5\", verbose=1, save_best_only=True)\n",
    "\n",
    "\n",
    "model.compile(optimizer=opt, \n",
    "              loss='categorical_crossentropy',\n",
    "              metrics=['accuracy'])\n",
    "\n",
    "history = model.fit(X_train, Y_train, \n",
    "          epochs = 25, \n",
    "          batch_size = 128, \n",
    "          verbose=1, \n",
    "          validation_data=(X_test, Y_test),\n",
    "          callbacks=[reduce_lr, checkpointer],\n",
    "          shuffle='batch')"
   ]
  },
  {
   "cell_type": "code",
   "execution_count": 56,
   "metadata": {
    "collapsed": true
   },
   "outputs": [],
   "source": [
    "plt.figure()\n",
    "plt.plot(history.history['loss'])\n",
    "plt.plot(history.history['val_loss'])\n",
    "plt.title('model loss')\n",
    "plt.ylabel('loss')\n",
    "plt.xlabel('epoch')\n",
    "plt.legend(['train', 'test'], loc='best')\n",
    "plt.show()\n",
    "\n",
    "plt.figure()\n",
    "plt.plot(history.history['acc'])\n",
    "plt.plot(history.history['val_acc'])\n",
    "plt.title('model accuracy')\n",
    "plt.ylabel('accuracy')\n",
    "plt.xlabel('epoch')\n",
    "plt.legend(['train', 'test'], loc='best')\n",
    "plt.show()"
   ]
  },
  {
   "cell_type": "code",
   "execution_count": 57,
   "metadata": {},
   "outputs": [
    {
     "name": "stdout",
     "output_type": "stream",
     "text": [
      "[[0.26659718 0.73340282]\n",
      " [0.27569839 0.72430161]]\n"
     ]
    }
   ],
   "source": [
    "from sklearn.metrics import confusion_matrix\n",
    "\n",
    "model.load_weights(\"model.hdf5\")\n",
    "pred = model.predict(np.array(X_test), batch_size=128)\n",
    "\n",
    "C = confusion_matrix([np.argmax(y) for y in Y_test], [np.argmax(y) for y in pred])\n",
    "\n",
    "print (C / C.astype(np.float).sum(axis=1)[:, None])"
   ]
  },
  {
   "cell_type": "code",
   "execution_count": 58,
   "metadata": {},
   "outputs": [
    {
     "data": {
      "text/plain": [
       "array([[3325, 9147],\n",
       "       [3543, 9308]])"
      ]
     },
     "execution_count": 58,
     "metadata": {},
     "output_type": "execute_result"
    }
   ],
   "source": [
    "C"
   ]
  },
  {
   "cell_type": "code",
   "execution_count": 58,
   "metadata": {},
   "outputs": [
    {
     "data": {
      "text/plain": [
       "976"
      ]
     },
     "execution_count": 58,
     "metadata": {},
     "output_type": "execute_result"
    }
   ],
   "source": [
    "sum([np.argmax(y) for y in Y_test])"
   ]
  },
  {
   "cell_type": "code",
   "execution_count": 42,
   "metadata": {},
   "outputs": [
    {
     "data": {
      "text/plain": [
       "(274, 4)"
      ]
     },
     "execution_count": 42,
     "metadata": {},
     "output_type": "execute_result"
    }
   ],
   "source": [
    "df = pd.DataFrame(np.concatenate((pred, Y_test), axis=1))\n",
    "df[(df[0]>.6)&(df[2]==1)].shape\n",
    "df[(df[0]>.6)].shape\n",
    "\n",
    "#df.shape\n",
    "#df.sort_values(0,axis=0,ascending=False).head(20)"
   ]
  },
  {
   "cell_type": "code",
   "execution_count": 174,
   "metadata": {},
   "outputs": [
    {
     "data": {
      "text/plain": [
       "array([[812,   0],\n",
       "       [501,   0]])"
      ]
     },
     "execution_count": 174,
     "metadata": {},
     "output_type": "execute_result"
    }
   ],
   "source": [
    "C"
   ]
  },
  {
   "cell_type": "code",
   "execution_count": 45,
   "metadata": {},
   "outputs": [
    {
     "data": {
      "text/plain": [
       "array([[0.83673469, 0.15855573, 0.00470958],\n",
       "       [0.78915663, 0.20481928, 0.0060241 ],\n",
       "       [0.86335404, 0.13043478, 0.00621118]])"
      ]
     },
     "execution_count": 45,
     "metadata": {},
     "output_type": "execute_result"
    }
   ],
   "source": [
    "C / C.astype(np.float).sum(axis=1)[:, None]"
   ]
  },
  {
   "cell_type": "code",
   "execution_count": 69,
   "metadata": {},
   "outputs": [
    {
     "data": {
      "text/plain": [
       "array([0.55539956, 0.44460044])"
      ]
     },
     "execution_count": 69,
     "metadata": {},
     "output_type": "execute_result"
    }
   ],
   "source": [
    "probs = Y_train.sum(axis=0) / Y_train.shape[0]\n",
    "probs"
   ]
  },
  {
   "cell_type": "code",
   "execution_count": 68,
   "metadata": {},
   "outputs": [
    {
     "data": {
      "text/plain": [
       "array([[0.4436597 , 0.5563404 ],\n",
       "       [0.5040323 , 0.49596766],\n",
       "       [0.5359964 , 0.4640036 ],\n",
       "       ...,\n",
       "       [0.57311577, 0.4268842 ],\n",
       "       [0.5362818 , 0.46371824],\n",
       "       [0.5139088 , 0.48609126]], dtype=float32)"
      ]
     },
     "execution_count": 68,
     "metadata": {},
     "output_type": "execute_result"
    }
   ],
   "source": [
    "pred"
   ]
  },
  {
   "cell_type": "code",
   "execution_count": 120,
   "metadata": {},
   "outputs": [
    {
     "data": {
      "text/plain": [
       "array([1, 0, 1, ..., 0, 0, 1])"
      ]
     },
     "execution_count": 120,
     "metadata": {},
     "output_type": "execute_result"
    }
   ],
   "source": [
    "s = np.random.binomial(1, probs[1], pred.shape[0])\n",
    "s"
   ]
  },
  {
   "cell_type": "code",
   "execution_count": 121,
   "metadata": {},
   "outputs": [
    {
     "name": "stdout",
     "output_type": "stream",
     "text": [
      "[[0.58421851 0.41578149]\n",
      " [0.59026688 0.40973312]]\n"
     ]
    }
   ],
   "source": [
    "C1 = confusion_matrix([np.argmax(y) for y in Y_test], s)\n",
    "print (C1 / C1.astype(np.float).sum(axis=1)[:, None])"
   ]
  },
  {
   "cell_type": "code",
   "execution_count": 122,
   "metadata": {},
   "outputs": [
    {
     "data": {
      "text/plain": [
       "0.4984567901234568"
      ]
     },
     "execution_count": 122,
     "metadata": {},
     "output_type": "execute_result"
    }
   ],
   "source": [
    "([np.argmax(y) for y in Y_test] == s).sum() / pred.shape[0]"
   ]
  },
  {
   "cell_type": "code",
   "execution_count": 123,
   "metadata": {},
   "outputs": [
    {
     "data": {
      "text/plain": [
       "<keras.models.Sequential at 0x7f61cf415860>"
      ]
     },
     "execution_count": 123,
     "metadata": {},
     "output_type": "execute_result"
    }
   ],
   "source": []
  },
  {
   "cell_type": "code",
   "execution_count": null,
   "metadata": {
    "collapsed": true
   },
   "outputs": [],
   "source": []
  }
 ],
 "metadata": {
  "kernelspec": {
   "display_name": "Python 3",
   "language": "python",
   "name": "python3"
  },
  "language_info": {
   "codemirror_mode": {
    "name": "ipython",
    "version": 3
   },
   "file_extension": ".py",
   "mimetype": "text/x-python",
   "name": "python",
   "nbconvert_exporter": "python",
   "pygments_lexer": "ipython3",
   "version": "3.6.3"
  }
 },
 "nbformat": 4,
 "nbformat_minor": 2
}
