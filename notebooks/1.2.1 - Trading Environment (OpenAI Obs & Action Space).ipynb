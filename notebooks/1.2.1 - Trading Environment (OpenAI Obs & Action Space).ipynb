{
 "cells": [
  {
   "cell_type": "code",
   "execution_count": 1,
   "metadata": {},
   "outputs": [
    {
     "name": "stderr",
     "output_type": "stream",
     "text": [
      "/home/ubuntu/src/anaconda3/envs/tensorflow/lib/python3.6/site-packages/matplotlib/cbook/deprecation.py:106: MatplotlibDeprecationWarning: The finance module has been deprecated in mpl 2.0 and will be removed in mpl 2.2. Please use the module mpl_finance instead.\n",
      "  warnings.warn(message, mplDeprecation, stacklevel=1)\n"
     ]
    },
    {
     "name": "stdout",
     "output_type": "stream",
     "text": [
      "Using matplotlib backend: Qt5Agg\n"
     ]
    }
   ],
   "source": [
    "import datetime\n",
    "import random\n",
    "import math\n",
    "import matplotlib as mpl\n",
    "import matplotlib.pyplot as plt\n",
    "import matplotlib.ticker as ticker\n",
    "from matplotlib.finance import candlestick_ohlc\n",
    "import numpy as np\n",
    "import pandas as pd\n",
    "import pandas_market_calendars as mcal\n",
    "#from tgym.core import Env\n",
    "from gym import Env, spaces\n",
    "%matplotlib"
   ]
  },
  {
   "cell_type": "code",
   "execution_count": 14,
   "metadata": {},
   "outputs": [
    {
     "data": {
      "text/plain": [
       "-400.45654"
      ]
     },
     "execution_count": 14,
     "metadata": {},
     "output_type": "execute_result"
    }
   ],
   "source": [
    "s = spaces.Box(low=-10000, high=10000, shape=(5,), dtype=np.float32)\n",
    "s.sample()[0]"
   ]
  },
  {
   "cell_type": "code",
   "execution_count": 2,
   "metadata": {
    "collapsed": true
   },
   "outputs": [],
   "source": [
    "#We hack the NYSE Calendar extending the close until 4:15\n",
    "class CMERTHCalendar(mcal.exchange_calendar_nyse.NYSEExchangeCalendar):\n",
    "    @property\n",
    "    def close_time(self):\n",
    "        return datetime.time(16, 15)"
   ]
  },
  {
   "cell_type": "code",
   "execution_count": 3,
   "metadata": {
    "collapsed": true
   },
   "outputs": [],
   "source": [
    "class ESTradingEnv(Env):\n",
    "    \n",
    "    _actions = {\n",
    "        'hold': np.array([1, 0, 0]),\n",
    "        'buy': np.array([0, 1, 0]),\n",
    "        'sell': np.array([0, 0, 1])\n",
    "    }\n",
    "\n",
    "    _positions = {\n",
    "        'flat': np.array([1, 0, 0]),\n",
    "        'long': np.array([0, 1, 0]),\n",
    "        'short': np.array([0, 0, 1])\n",
    "    }\n",
    "    \n",
    "    def __init__(self, tick_data, history_length=50, episode_length=20*81, commission=2,\n",
    "                order_penalty=0, time_penalty=0):\n",
    "        \"\"\"Initialisation function\"\"\"\n",
    "        self._tick_data = tick_data\n",
    "        self._five_min_data = self._make_5min_bars(tick_data)\n",
    "        self._history_length = history_length\n",
    "        self._episode_length = episode_length\n",
    "        \n",
    "        self._commission = commission\n",
    "        self._order_penalty = order_penalty\n",
    "        self._time_penalty = time_penalty\n",
    "        \n",
    "        # We can take 3 actions 0=hold, 1=buy, 2=sell\n",
    "        self.action_space = spaces.Discrete(3)\n",
    "        # Observation consists of ohlc values + position info\n",
    "        # Position info is the last element of the observation space 0=flat, 1=long, 2=short\n",
    "        self.observation_space = spaces.Box(low=-10000, high=10000, shape=(5,), dtype=np.float32)\n",
    "        \n",
    "        self._first_render = True\n",
    "        self._observation = self.reset()\n",
    "    \n",
    "    def reset(self):\n",
    "        \"\"\"Reset the trading environment. Reset rewards, data generator...\n",
    "\n",
    "        Returns:\n",
    "            observation (numpy.array): observation of the state\n",
    "        \"\"\"\n",
    "        \n",
    "        self._iteration = 0\n",
    "        \n",
    "        #Find indices of the first bars of each day\n",
    "        i = self._five_min_data[(self._five_min_data['date'].dt.hour == 9) & \\\n",
    "                 (self._five_min_data['date'].dt.minute == 35)].index.tolist()\n",
    "        \n",
    "        #Randomly pick a day to start \n",
    "        self._start_index = random.choice(i[4:-math.ceil(self._episode_length/81)])\n",
    "     \n",
    "        x_end = self._start_index + 1\n",
    "        x_beg = x_end - self._history_length\n",
    "        price_series = self._five_min_data.iloc[x_beg:x_end]\n",
    "        \n",
    "        self._action = self._actions['hold']\n",
    "        self._position = self._positions['flat']\n",
    "        self._working_order = None\n",
    "        self._order_price = 0\n",
    "        self._target_price = 0\n",
    "        self._stop_price = 0\n",
    "        \n",
    "        self._total_reward = 0\n",
    "        self._total_pnl = 0\n",
    "        self._winning_trades = 0.0\n",
    "        self._total_trades = 0.0\n",
    "        self._win_rate = 0.0\n",
    "        \n",
    "        observation = {\n",
    "            'prices': price_series,\n",
    "            'position': self._position\n",
    "        }\n",
    "        \n",
    "        return observation\n",
    "    \n",
    "    \n",
    "    def step(self, action):\n",
    "        \"\"\"Take an action (buy/sell/hold) and computes the immediate reward.\n",
    "\n",
    "        Args:\n",
    "            action (numpy.array): Action to be taken, one-hot encoded.\n",
    "\n",
    "        Returns:\n",
    "            tuple:\n",
    "                - observation (numpy.array): Agent's observation of the current environment.\n",
    "                - reward (float) : Amount of reward returned after previous action.\n",
    "                - done (bool): Whether the episode has ended, in which case further step() calls will return undefined results.\n",
    "                - info (dict): Contains auxiliary diagnostic information (helpful for debugging, and sometimes learning).\n",
    "\n",
    "        \"\"\"\n",
    "        self._action = action\n",
    "        self._iteration += 1\n",
    "        pnl = 0\n",
    "        reward = 0\n",
    "        info = {}\n",
    "        done = False\n",
    "        \n",
    "        # Let's move forward one step in time\n",
    "        x_end = self._start_index + 1 + self._iteration\n",
    "        x_beg = x_end - self._history_length\n",
    "        price_series = self._five_min_data.iloc[x_beg:x_end]\n",
    "        \n",
    "        # Get tick data for the last bar in the price series \n",
    "        ts_end = price_series.iloc[-1]['date']\n",
    "        ts_start = ts_end - pd.Timedelta(minutes=5)\n",
    "        ticks = self._tick_data[(self._tick_data.index > ts_start) & \\\n",
    "                                (self._tick_data.index <= ts_end)]\n",
    "        \n",
    "        \n",
    "        # If we don't have a position and there is a buy or sell action, we create the order\n",
    "        # If we have a position, we apply the time penalty and another large penalty if the\n",
    "        # system has issued another buy or sell action\n",
    "        if all(self._position == self._positions['flat']):\n",
    "            # Create order -- buy at low or sell at high of previous bar\n",
    "            if all(self._action == self._actions['buy']):\n",
    "                self._working_order = self._actions['buy']\n",
    "                self._order_price = price_series.iloc[-2]['low']\n",
    "                reward -= self._order_penalty\n",
    "            elif all(self._action == self._actions['sell']):\n",
    "                self._working_order = self._actions['sell']\n",
    "                self._order_price = price_series.iloc[-2]['high']\n",
    "                reward -= self._order_penalty\n",
    "        else:\n",
    "            reward -= self._time_penalty\n",
    "            if not all(self._action == self._actions['hold']):\n",
    "                reward -= 1000\n",
    "                print(\"Position not flat -- action was buy or sell\")\n",
    "            \n",
    "        # Simulate order execution by processing each tick in the last bar\n",
    "        for index, row in ticks.iterrows():\n",
    "            price = row['last']\n",
    "            if all(self._position == self._positions['flat']):\n",
    "                if all(self._working_order == self._actions['buy']):\n",
    "                    if price < self._order_price:\n",
    "                        self._position = self._positions['long']\n",
    "                        self._target_price = self._order_price + 1\n",
    "                        self._stop_price = self._order_price - 1\n",
    "                        self._working_order = None\n",
    "                        pnl -= self._commission\n",
    "                        print(\"Buy Order Filled: %s\" % self._order_price)\n",
    "                elif all(self._working_order == self._actions['sell']):\n",
    "                    if price > self._order_price:\n",
    "                        self._position = self._positions['short']\n",
    "                        self._target_price = self._order_price - 1\n",
    "                        self._stop_price = self._order_price + 1\n",
    "                        self._working_order = None\n",
    "                        pnl -= self._commission\n",
    "                        print(\"Sell Order Filled: %s\" % self._order_price)\n",
    "            elif all(self._position == self._positions['long']):\n",
    "                if price > self._target_price:\n",
    "                    print(\"Target Hit: %s\" % self._target_price)\n",
    "                    self._position = self._positions['flat']\n",
    "                    self._target_price, self._stop_price, self._order_price = (0, ) * 3\n",
    "                    pnl += 50 - self._commission\n",
    "                    self._winning_trades += 1\n",
    "                    self._total_trades += 1\n",
    "                    self._win_rate = (self._winning_trades / self._total_trades) * 100\n",
    "                elif price <= self._stop_price:\n",
    "                    print(\"Stop Hit: %s\" % self._stop_price)\n",
    "                    self._position = self._positions['flat']\n",
    "                    self._target_price, self._stop_price, self._order_price = (0, ) * 3\n",
    "                    pnl += -50 - self._commission\n",
    "                    self._total_trades += 1\n",
    "                    self._win_rate = (self._winning_trades / self._total_trades) * 100\n",
    "            elif all(self._position == self._positions['short']):\n",
    "                if price < self._target_price:\n",
    "                    print(\"Target Hit: %s\" % self._target_price)\n",
    "                    self._position = self._positions['flat']\n",
    "                    self._target_price, self._stop_price, self._order_price = (0, ) * 3\n",
    "                    pnl += 50 - self._commission\n",
    "                    self._winning_trades += 1\n",
    "                    self._total_trades += 1\n",
    "                    self._win_rate = (self._winning_trades / self._total_trades) * 100\n",
    "                elif price >= self._stop_price:\n",
    "                    print(\"Stop Hit: %s\" % self._stop_price)\n",
    "                    self._position = self._positions['flat']\n",
    "                    self._target_price, self._stop_price, self._order_price = (0, ) * 3\n",
    "                    pnl += -50 - self._commission\n",
    "                    self._total_trades += 1\n",
    "                    self._win_rate = (self._winning_trades / self._total_trades) * 100\n",
    "        \n",
    "        reward += pnl\n",
    "        self._total_reward += reward\n",
    "        self._total_pnl += pnl\n",
    "        \n",
    "        # End of episode logic\n",
    "        if self._iteration >= self._episode_length:\n",
    "            done = True\n",
    "        elif self._total_pnl < -500:\n",
    "            done = True\n",
    "        \n",
    "        observation = {\n",
    "            'prices': price_series,\n",
    "            'position': self._position\n",
    "        }\n",
    "        self._observation = observation\n",
    "        \n",
    "        return observation, reward, done, info\n",
    "        \n",
    "    \n",
    "    def render(self):\n",
    "        \"\"\"Matlplotlib rendering of each step.\n",
    "        \"\"\"\n",
    "        if self._first_render:\n",
    "            self._f, self._ax = plt.subplots(figsize=(16,8))\n",
    "            self._first_render = False\n",
    "        \n",
    "        #Format xaxis\n",
    "        def format_hour(x, pos=None):\n",
    "            thisind = np.clip(int(x + 0.5), 0, len(self._five_min_data.index) - 1)\n",
    "            return self._five_min_data['date'][thisind].strftime('%b %-d %I:%M')\n",
    "        self._ax.xaxis.set_major_formatter(ticker.FuncFormatter(format_hour))\n",
    "        \n",
    "        price_series = self._observation['prices']\n",
    "        curr_bar = price_series.iloc[-1]\n",
    "        prev_bar = price_series.iloc[-2]\n",
    "        curr_index = curr_bar.name\n",
    "        curr_bar_ohlc = curr_bar[['open','high','low','close']]\n",
    "        candle_data = [(curr_bar_ohlc.name,) + tuple(curr_bar_ohlc.values)]\n",
    "        candlestick_ohlc(self._ax, candle_data, width=.5, colorup='g', colordown='r', alpha=1)\n",
    "        \n",
    "        # Adjust axes\n",
    "        i = curr_index - self._start_index\n",
    "        i_min = max(0,i-100) + self._start_index\n",
    "        i_max = i + self._start_index + 1 if i < 100 else i_min + 101\n",
    "        self._ax.set_xlim(i_min - 0.5, i_max + 0.5)\n",
    "        y_max = self._five_min_data.loc[i_min:i_max]['high'].max()\n",
    "        y_min = self._five_min_data.loc[i_min:i_max]['low'].min()\n",
    "        self._ax.set_ylim(y_min - 1, y_max + 1)\n",
    "        \n",
    "        # Plot vertical lines indicating new trading day\n",
    "        ts = curr_bar['date']\n",
    "        if (ts.hour == 9) and (ts.minute == 35):\n",
    "            self._ax.axvline(curr_index - 0.5, color='black', lw=0.5)\n",
    "        \n",
    "        # Plot ema\n",
    "        self._ax.plot(self._five_min_data.loc[i_min:i_max].index.tolist(), \n",
    "                self._five_min_data.loc[i_min:i_max]['ema'].tolist(), \n",
    "                color='blue', lw=0.5) \n",
    "        \n",
    "        # Plot action\n",
    "        if (self._action == self._actions['buy']).all():\n",
    "            #self._ax.scatter(curr_index + 1, curr_bar['low'], \n",
    "                             #color='lawngreen', marker='^', zorder=100)\n",
    "            self._ax.plot([curr_index - 1, curr_index], [prev_bar['low'], prev_bar['low']],\n",
    "                         color='black', ls=\"-\", zorder=100)\n",
    "        elif (self._action == self._actions['sell']).all():\n",
    "            self._ax.plot([curr_index - 1, curr_index], [prev_bar['high'], prev_bar['high']],\n",
    "                         color='black', ls=\"-\", zorder=100)\n",
    "            \n",
    "        # Plot stats\n",
    "        plt.suptitle('Episode Length: ' + \"%.0f\" % self._iteration + ' ~ ' +\n",
    "                     'Total Reward: ' + \"%.2f\" % self._total_reward + ' ~ ' +\n",
    "                     'Total PnL: ' + \"%.2f\" % self._total_pnl + ' ~ ' +\n",
    "                     'Total Trades: ' + \"%.0f\" % self._total_trades + ' ~ ' +\n",
    "                     'Win Rate: ' + \"%.2f\" % self._win_rate + ' ~ ' +\n",
    "                     'Position: ' + ['flat', 'long', 'short'][list(self._position).index(1)])\n",
    "        \n",
    "        plt.pause(.01)\n",
    "        \n",
    "    \n",
    "    def _make_5min_bars(self, tick_data):\n",
    "        #Resample to get 5min bars\n",
    "        five_min_data = pd.DataFrame(\n",
    "            tick_data['last'].resample('5Min', loffset=datetime.timedelta(minutes=5)).ohlc())\n",
    "        \n",
    "        #Create RTH Calendar\n",
    "        nyse = CMERTHCalendar()\n",
    "        schedule = nyse.schedule(start_date=five_min_data.index.min(), \n",
    "                                 end_date=five_min_data.index.max())\n",
    "        \n",
    "        #Filter out those bars that occur during RTH\n",
    "        five_min_data['dates'] = pd.to_datetime(five_min_data.index.to_datetime().date)\n",
    "        five_min_data['valid_date'] = five_min_data['dates'].isin(schedule.index)\n",
    "        five_min_data['valid_time'] = False\n",
    "        during_rth = five_min_data['valid_date'] & \\\n",
    "                (five_min_data.index > schedule.loc[five_min_data['dates'],'market_open']) & \\\n",
    "                (five_min_data.index <= schedule.loc[five_min_data['dates'],'market_close'])\n",
    "        five_min_data.loc[during_rth, 'valid_time'] = True\n",
    "        five_min_data = five_min_data[five_min_data['valid_time'] == True]\n",
    "        five_min_data.drop(['dates','valid_date','valid_time'], axis=1, inplace=True)\n",
    "        \n",
    "        #Add ema\n",
    "        five_min_data['ema'] = five_min_data['close'].ewm(span=20, min_periods=20).mean()\n",
    "\n",
    "        #Reset index\n",
    "        five_min_data.reset_index(inplace=True)\n",
    "        \n",
    "        return five_min_data\n",
    "        "
   ]
  },
  {
   "cell_type": "code",
   "execution_count": 4,
   "metadata": {},
   "outputs": [
    {
     "data": {
      "text/html": [
       "<div>\n",
       "<style>\n",
       "    .dataframe thead tr:only-child th {\n",
       "        text-align: right;\n",
       "    }\n",
       "\n",
       "    .dataframe thead th {\n",
       "        text-align: left;\n",
       "    }\n",
       "\n",
       "    .dataframe tbody tr th {\n",
       "        vertical-align: top;\n",
       "    }\n",
       "</style>\n",
       "<table border=\"1\" class=\"dataframe\">\n",
       "  <thead>\n",
       "    <tr style=\"text-align: right;\">\n",
       "      <th></th>\n",
       "      <th>last</th>\n",
       "      <th>bid</th>\n",
       "      <th>ask</th>\n",
       "      <th>volume</th>\n",
       "    </tr>\n",
       "    <tr>\n",
       "      <th>date</th>\n",
       "      <th></th>\n",
       "      <th></th>\n",
       "      <th></th>\n",
       "      <th></th>\n",
       "    </tr>\n",
       "  </thead>\n",
       "  <tbody>\n",
       "    <tr>\n",
       "      <th>2017-07-30 18:00:00.041000-04:00</th>\n",
       "      <td>2471.5</td>\n",
       "      <td>2471.5</td>\n",
       "      <td>2471.5</td>\n",
       "      <td>1</td>\n",
       "    </tr>\n",
       "    <tr>\n",
       "      <th>2017-07-30 18:00:00.041000-04:00</th>\n",
       "      <td>2471.5</td>\n",
       "      <td>2471.5</td>\n",
       "      <td>2471.5</td>\n",
       "      <td>13</td>\n",
       "    </tr>\n",
       "    <tr>\n",
       "      <th>2017-07-30 18:00:00.041000-04:00</th>\n",
       "      <td>2471.5</td>\n",
       "      <td>2471.5</td>\n",
       "      <td>2471.5</td>\n",
       "      <td>15</td>\n",
       "    </tr>\n",
       "    <tr>\n",
       "      <th>2017-07-30 18:00:00.041000-04:00</th>\n",
       "      <td>2471.5</td>\n",
       "      <td>2471.5</td>\n",
       "      <td>2471.5</td>\n",
       "      <td>4</td>\n",
       "    </tr>\n",
       "    <tr>\n",
       "      <th>2017-07-30 18:00:00.041000-04:00</th>\n",
       "      <td>2471.5</td>\n",
       "      <td>2471.5</td>\n",
       "      <td>2471.5</td>\n",
       "      <td>10</td>\n",
       "    </tr>\n",
       "  </tbody>\n",
       "</table>\n",
       "</div>"
      ],
      "text/plain": [
       "                                    last     bid     ask  volume\n",
       "date                                                            \n",
       "2017-07-30 18:00:00.041000-04:00  2471.5  2471.5  2471.5       1\n",
       "2017-07-30 18:00:00.041000-04:00  2471.5  2471.5  2471.5      13\n",
       "2017-07-30 18:00:00.041000-04:00  2471.5  2471.5  2471.5      15\n",
       "2017-07-30 18:00:00.041000-04:00  2471.5  2471.5  2471.5       4\n",
       "2017-07-30 18:00:00.041000-04:00  2471.5  2471.5  2471.5      10"
      ]
     },
     "execution_count": 4,
     "metadata": {},
     "output_type": "execute_result"
    }
   ],
   "source": [
    "tick_data = pd.read_feather('../data/processed/ES_tick.feather')\n",
    "tick_data = tick_data[tick_data['date'] > '2017-07-29']\n",
    "#Create Index from date column\n",
    "tick_data.index = tick_data['date']\n",
    "tick_data.drop(labels=['date'],axis=1,inplace=True)\n",
    "tick_data.head()"
   ]
  },
  {
   "cell_type": "code",
   "execution_count": 5,
   "metadata": {
    "collapsed": true
   },
   "outputs": [],
   "source": [
    "e = ESTradingEnv(tick_data)"
   ]
  },
  {
   "cell_type": "code",
   "execution_count": 6,
   "metadata": {},
   "outputs": [
    {
     "name": "stdout",
     "output_type": "stream",
     "text": [
      "Sell Order Filled: 2499.75\n",
      "Target Hit: 2498.75\n",
      "Sell Order Filled: 2500.25\n",
      "Target Hit: 2499.25\n",
      "Buy Order Filled: 2498.75\n",
      "Target Hit: 2499.75\n",
      "Sell Order Filled: 2500.25\n",
      "Stop Hit: 2501.25\n",
      "Buy Order Filled: 2502.0\n",
      "Stop Hit: 2501.0\n",
      "Buy Order Filled: 2497.5\n",
      "Stop Hit: 2496.5\n",
      "Buy Order Filled: 2496.5\n",
      "Stop Hit: 2495.5\n",
      "Buy Order Filled: 2492.75\n",
      "Stop Hit: 2491.75\n",
      "Sell Order Filled: 2491.75\n",
      "Stop Hit: 2492.75\n",
      "Sell Order Filled: 2493.0\n",
      "Target Hit: 2492.0\n",
      "Buy Order Filled: 2492.75\n",
      "Stop Hit: 2491.75\n",
      "Buy Order Filled: 2491.5\n",
      "Stop Hit: 2490.5\n",
      "Sell Order Filled: 2490.0\n",
      "Stop Hit: 2491.0\n",
      "Sell Order Filled: 2492.5\n",
      "Stop Hit: 2493.5\n",
      "Sell Order Filled: 2493.75\n",
      "Stop Hit: 2494.75\n",
      "Sell Order Filled: 2495.5\n",
      "Target Hit: 2494.5\n",
      "Sell Order Filled: 2494.75\n",
      "Target Hit: 2493.75\n",
      "Buy Order Filled: 2493.75\n",
      "Stop Hit: 2492.75\n",
      "Buy Order Filled: 2491.5\n",
      "Target Hit: 2492.5\n",
      "Sell Order Filled: 2492.75\n",
      "Stop Hit: 2493.75\n",
      "Buy Order Filled: 2493.25\n",
      "Stop Hit: 2492.25\n",
      "Sell Order Filled: 2494.5\n",
      "Stop Hit: 2495.5\n",
      "Sell Order Filled: 2495.5\n",
      "Stop Hit: 2496.5\n",
      "CPU times: user 53.4 s, sys: 15.9 s, total: 1min 9s\n",
      "Wall time: 54.7 s\n"
     ]
    }
   ],
   "source": [
    "%%time\n",
    "done = False\n",
    "e.render()\n",
    "while not done:\n",
    "    #print(e._position)\n",
    "    if all(e._position == np.array([1, 0, 0])): #if flat\n",
    "        action = random.choice([np.array([0, 0, 1]), np.array([0, 1, 0])]) #buy\n",
    "    else:\n",
    "        action = np.array([1, 0, 0]) #hold    \n",
    "    observation, reward, done, info = e.step(action)\n",
    "    e.render()"
   ]
  },
  {
   "cell_type": "code",
   "execution_count": 82,
   "metadata": {},
   "outputs": [
    {
     "data": {
      "text/plain": [
       "open      2565.5\n",
       "high     2565.75\n",
       "low      2562.25\n",
       "close       2563\n",
       "Name: 5058, dtype: object"
      ]
     },
     "execution_count": 82,
     "metadata": {},
     "output_type": "execute_result"
    }
   ],
   "source": [
    "gd = td.iloc[-1]\n",
    "subset = gd[['open','high','low','close']]\n",
    "subset"
   ]
  },
  {
   "cell_type": "code",
   "execution_count": 87,
   "metadata": {},
   "outputs": [
    {
     "data": {
      "text/plain": [
       "[(5058, 2565.5, 2565.75, 2562.25, 2563.0)]"
      ]
     },
     "execution_count": 87,
     "metadata": {},
     "output_type": "execute_result"
    }
   ],
   "source": [
    "tuples = [(subset.name, ) + tuple(subset.values)]\n",
    "tuples"
   ]
  },
  {
   "cell_type": "code",
   "execution_count": 59,
   "metadata": {},
   "outputs": [
    {
     "data": {
      "text/plain": [
       "2592"
      ]
     },
     "execution_count": 59,
     "metadata": {},
     "output_type": "execute_result"
    }
   ],
   "source": [
    "random.choice(x[3:-20])"
   ]
  },
  {
   "cell_type": "code",
   "execution_count": 63,
   "metadata": {},
   "outputs": [
    {
     "data": {
      "text/html": [
       "<div>\n",
       "<style>\n",
       "    .dataframe thead tr:only-child th {\n",
       "        text-align: right;\n",
       "    }\n",
       "\n",
       "    .dataframe thead th {\n",
       "        text-align: left;\n",
       "    }\n",
       "\n",
       "    .dataframe tbody tr th {\n",
       "        vertical-align: top;\n",
       "    }\n",
       "</style>\n",
       "<table border=\"1\" class=\"dataframe\">\n",
       "  <thead>\n",
       "    <tr style=\"text-align: right;\">\n",
       "      <th></th>\n",
       "      <th>date</th>\n",
       "      <th>open</th>\n",
       "      <th>high</th>\n",
       "      <th>low</th>\n",
       "      <th>close</th>\n",
       "      <th>ema</th>\n",
       "    </tr>\n",
       "  </thead>\n",
       "  <tbody>\n",
       "    <tr>\n",
       "      <th>0</th>\n",
       "      <td>2017-07-31 09:35:00-04:00</td>\n",
       "      <td>2474.75</td>\n",
       "      <td>2475.75</td>\n",
       "      <td>2474.00</td>\n",
       "      <td>2475.50</td>\n",
       "      <td>NaN</td>\n",
       "    </tr>\n",
       "    <tr>\n",
       "      <th>1</th>\n",
       "      <td>2017-07-31 09:40:00-04:00</td>\n",
       "      <td>2475.25</td>\n",
       "      <td>2476.00</td>\n",
       "      <td>2473.75</td>\n",
       "      <td>2475.50</td>\n",
       "      <td>NaN</td>\n",
       "    </tr>\n",
       "    <tr>\n",
       "      <th>2</th>\n",
       "      <td>2017-07-31 09:45:00-04:00</td>\n",
       "      <td>2475.75</td>\n",
       "      <td>2475.75</td>\n",
       "      <td>2474.50</td>\n",
       "      <td>2474.75</td>\n",
       "      <td>NaN</td>\n",
       "    </tr>\n",
       "  </tbody>\n",
       "</table>\n",
       "</div>"
      ],
      "text/plain": [
       "                       date     open     high      low    close  ema\n",
       "0 2017-07-31 09:35:00-04:00  2474.75  2475.75  2474.00  2475.50  NaN\n",
       "1 2017-07-31 09:40:00-04:00  2475.25  2476.00  2473.75  2475.50  NaN\n",
       "2 2017-07-31 09:45:00-04:00  2475.75  2475.75  2474.50  2474.75  NaN"
      ]
     },
     "execution_count": 63,
     "metadata": {},
     "output_type": "execute_result"
    }
   ],
   "source": [
    "e._five_min_data.iloc[0:3]"
   ]
  },
  {
   "cell_type": "code",
   "execution_count": 98,
   "metadata": {},
   "outputs": [
    {
     "data": {
      "text/plain": [
       "(0, 0, 0)"
      ]
     },
     "execution_count": 98,
     "metadata": {},
     "output_type": "execute_result"
    }
   ],
   "source": [
    "(0,) * 3"
   ]
  },
  {
   "cell_type": "code",
   "execution_count": 41,
   "metadata": {},
   "outputs": [
    {
     "data": {
      "text/plain": [
       "18"
      ]
     },
     "execution_count": 41,
     "metadata": {},
     "output_type": "execute_result"
    }
   ],
   "source": [
    "int(1500/81)"
   ]
  },
  {
   "cell_type": "code",
   "execution_count": null,
   "metadata": {
    "collapsed": true
   },
   "outputs": [],
   "source": []
  }
 ],
 "metadata": {
  "kernelspec": {
   "display_name": "Python 3",
   "language": "python",
   "name": "python3"
  },
  "language_info": {
   "codemirror_mode": {
    "name": "ipython",
    "version": 3
   },
   "file_extension": ".py",
   "mimetype": "text/x-python",
   "name": "python",
   "nbconvert_exporter": "python",
   "pygments_lexer": "ipython3",
   "version": "3.6.3"
  }
 },
 "nbformat": 4,
 "nbformat_minor": 2
}
