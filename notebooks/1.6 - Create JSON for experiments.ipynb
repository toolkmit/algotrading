{
 "cells": [
  {
   "cell_type": "code",
   "execution_count": 1,
   "metadata": {
    "collapsed": true
   },
   "outputs": [],
   "source": [
    "import json\n",
    "import numpy as np"
   ]
  },
  {
   "cell_type": "code",
   "execution_count": 94,
   "metadata": {
    "collapsed": true
   },
   "outputs": [],
   "source": [
    "def get_network_args():\n",
    "    batch_norm_on = bool(np.random.choice([True, False]))\n",
    "    batch_norm_on = False\n",
    "    filters = int(np.random.choice([16, 32, 64]))\n",
    "    fc_layer_size = int(np.random.choice([16, 32, 64]))\n",
    "    \n",
    "    filters = int(np.random.randint(24,40))\n",
    "    fc_layer_size = int(np.random.randint(24,40))\n",
    "    \n",
    "    kernel_size = int(np.random.randint(1,16))\n",
    "    dropout_pct = float(np.round((0.75-0.5) * np.random.random() + 0.5, decimals=2))\n",
    "    network_args = {\n",
    "        'filters': filters,\n",
    "        'kernel_size': kernel_size,\n",
    "        'fc_layer_size': fc_layer_size,\n",
    "        'dropout_pct': dropout_pct,\n",
    "        'batch_norm_on': batch_norm_on\n",
    "        }\n",
    "    return network_args"
   ]
  },
  {
   "cell_type": "code",
   "execution_count": 2,
   "metadata": {
    "collapsed": true
   },
   "outputs": [],
   "source": [
    "def get_dataset_args():\n",
    "    use_cng = bool(np.random.choice([True, False]))\n",
    "    if not use_cng:\n",
    "        use_close = True\n",
    "    else:\n",
    "        use_close = bool(np.random.choice([True, False]))\n",
    "    use_time = bool(np.random.choice([True, False]))\n",
    "    use_ema = bool(np.random.choice([True, False]))\n",
    "    use_ohl = bool(np.random.choice([True, False]))\n",
    "    use_cdl = bool(np.random.choice([True, False]))\n",
    "    use_dir = bool(np.random.choice([True, False]))\n",
    "    dataset_args = {\n",
    "        'use_cng': use_cng,\n",
    "        'use_close': use_close,\n",
    "        'use_time': use_time,\n",
    "        'use_ema': use_ema,\n",
    "        'use_ohl': use_ohl,\n",
    "        'use_cdl': use_cdl,\n",
    "        'use_dir': use_dir\n",
    "    }\n",
    "    return dataset_args"
   ]
  },
  {
   "cell_type": "code",
   "execution_count": 3,
   "metadata": {
    "collapsed": true
   },
   "outputs": [],
   "source": [
    "def get_args():\n",
    "    #window_size = int(np.random.randint(2,82))\n",
    "    #filter_size = int(np.random.randint(1,min(20, window_size)+1))\n",
    "    dropout_pct = float(np.round((0.8-0.5) * np.random.random() + 0.5, decimals=2))\n",
    "    return (get_dataset_args(), {'dropout_pct': dropout_pct})"
   ]
  },
  {
   "cell_type": "code",
   "execution_count": 18,
   "metadata": {},
   "outputs": [
    {
     "data": {
      "text/plain": [
       "({'use_cdl': True,\n",
       "  'use_close': True,\n",
       "  'use_cng': False,\n",
       "  'use_dir': False,\n",
       "  'use_ema': True,\n",
       "  'use_ohl': False,\n",
       "  'use_time': False},\n",
       " {'dropout_pct': 0.74})"
      ]
     },
     "execution_count": 18,
     "metadata": {},
     "output_type": "execute_result"
    }
   ],
   "source": [
    "get_args()"
   ]
  },
  {
   "cell_type": "code",
   "execution_count": 23,
   "metadata": {},
   "outputs": [
    {
     "data": {
      "text/plain": [
       "[{'dataset': 'ESBTCDataset',\n",
       "  'dataset_args': {'use_dir': True},\n",
       "  'model': 'ESModel',\n",
       "  'network': 'cnn',\n",
       "  'train_args': {'batch_size': 256, 'epochs': 250, 'learning_rate': 0.0001}},\n",
       " {'dataset': 'ESBTCDataset',\n",
       "  'dataset_args': {'use_dir': True},\n",
       "  'model': 'ESModel',\n",
       "  'network': 'cnn',\n",
       "  'train_args': {'batch_size': 256, 'epochs': 250, 'learning_rate': 0.0001}},\n",
       " {'dataset': 'ESBTCDataset',\n",
       "  'dataset_args': {'use_dir': True},\n",
       "  'model': 'ESModel',\n",
       "  'network': 'cnn',\n",
       "  'train_args': {'batch_size': 256, 'epochs': 250, 'learning_rate': 0.0001}},\n",
       " {'dataset': 'ESBTCDataset',\n",
       "  'dataset_args': {'use_dir': True},\n",
       "  'model': 'ESModel',\n",
       "  'network': 'cnn',\n",
       "  'train_args': {'batch_size': 256, 'epochs': 250, 'learning_rate': 0.0001}},\n",
       " {'dataset': 'ESBTCDataset',\n",
       "  'dataset_args': {'use_dir': True},\n",
       "  'model': 'ESModel',\n",
       "  'network': 'cnn',\n",
       "  'train_args': {'batch_size': 256, 'epochs': 250, 'learning_rate': 0.0001}},\n",
       " {'dataset': 'ESBTCDataset',\n",
       "  'dataset_args': {'use_dir': True},\n",
       "  'model': 'ESModel',\n",
       "  'network': 'cnn',\n",
       "  'train_args': {'batch_size': 256, 'epochs': 250, 'learning_rate': 0.0001}},\n",
       " {'dataset': 'ESBTCDataset',\n",
       "  'dataset_args': {'use_dir': True},\n",
       "  'model': 'ESModel',\n",
       "  'network': 'cnn',\n",
       "  'train_args': {'batch_size': 256, 'epochs': 250, 'learning_rate': 0.0001}},\n",
       " {'dataset': 'ESBTCDataset',\n",
       "  'dataset_args': {'use_dir': True},\n",
       "  'model': 'ESModel',\n",
       "  'network': 'cnn',\n",
       "  'train_args': {'batch_size': 256, 'epochs': 250, 'learning_rate': 0.0001}},\n",
       " {'dataset': 'ESBTCDataset',\n",
       "  'dataset_args': {'use_dir': True},\n",
       "  'model': 'ESModel',\n",
       "  'network': 'cnn',\n",
       "  'train_args': {'batch_size': 256, 'epochs': 250, 'learning_rate': 0.0001}},\n",
       " {'dataset': 'ESBTCDataset',\n",
       "  'dataset_args': {'use_dir': True},\n",
       "  'model': 'ESModel',\n",
       "  'network': 'cnn',\n",
       "  'train_args': {'batch_size': 256, 'epochs': 250, 'learning_rate': 0.0001}}]"
      ]
     },
     "execution_count": 23,
     "metadata": {},
     "output_type": "execute_result"
    }
   ],
   "source": [
    "experiments = []\n",
    "for _ in range(10):\n",
    "    #network_args = get_network_args()\n",
    "    #dataset_args = get_dataset_args()\n",
    "    args = get_args()\n",
    "    experiment = {\n",
    "        'dataset': 'ESBTCDataset',\n",
    "        'model': 'ESModel',\n",
    "        'network': 'cnn',\n",
    "        'dataset_args': {'use_dir': True},\n",
    "        'train_args': {'batch_size': 256, 'epochs': 250, 'learning_rate': 1e-4}\n",
    "    }\n",
    "    experiments.append(experiment)\n",
    "experiments"
   ]
  },
  {
   "cell_type": "code",
   "execution_count": 24,
   "metadata": {},
   "outputs": [
    {
     "data": {
      "text/plain": [
       "'{\"experiment_group\": \"Ensemble 3\", \"experiments\": [{\"dataset\": \"ESBTCDataset\", \"model\": \"ESModel\", \"network\": \"cnn\", \"dataset_args\": {\"use_dir\": true}, \"train_args\": {\"batch_size\": 256, \"epochs\": 250, \"learning_rate\": 0.0001}}, {\"dataset\": \"ESBTCDataset\", \"model\": \"ESModel\", \"network\": \"cnn\", \"dataset_args\": {\"use_dir\": true}, \"train_args\": {\"batch_size\": 256, \"epochs\": 250, \"learning_rate\": 0.0001}}, {\"dataset\": \"ESBTCDataset\", \"model\": \"ESModel\", \"network\": \"cnn\", \"dataset_args\": {\"use_dir\": true}, \"train_args\": {\"batch_size\": 256, \"epochs\": 250, \"learning_rate\": 0.0001}}, {\"dataset\": \"ESBTCDataset\", \"model\": \"ESModel\", \"network\": \"cnn\", \"dataset_args\": {\"use_dir\": true}, \"train_args\": {\"batch_size\": 256, \"epochs\": 250, \"learning_rate\": 0.0001}}, {\"dataset\": \"ESBTCDataset\", \"model\": \"ESModel\", \"network\": \"cnn\", \"dataset_args\": {\"use_dir\": true}, \"train_args\": {\"batch_size\": 256, \"epochs\": 250, \"learning_rate\": 0.0001}}, {\"dataset\": \"ESBTCDataset\", \"model\": \"ESModel\", \"network\": \"cnn\", \"dataset_args\": {\"use_dir\": true}, \"train_args\": {\"batch_size\": 256, \"epochs\": 250, \"learning_rate\": 0.0001}}, {\"dataset\": \"ESBTCDataset\", \"model\": \"ESModel\", \"network\": \"cnn\", \"dataset_args\": {\"use_dir\": true}, \"train_args\": {\"batch_size\": 256, \"epochs\": 250, \"learning_rate\": 0.0001}}, {\"dataset\": \"ESBTCDataset\", \"model\": \"ESModel\", \"network\": \"cnn\", \"dataset_args\": {\"use_dir\": true}, \"train_args\": {\"batch_size\": 256, \"epochs\": 250, \"learning_rate\": 0.0001}}, {\"dataset\": \"ESBTCDataset\", \"model\": \"ESModel\", \"network\": \"cnn\", \"dataset_args\": {\"use_dir\": true}, \"train_args\": {\"batch_size\": 256, \"epochs\": 250, \"learning_rate\": 0.0001}}, {\"dataset\": \"ESBTCDataset\", \"model\": \"ESModel\", \"network\": \"cnn\", \"dataset_args\": {\"use_dir\": true}, \"train_args\": {\"batch_size\": 256, \"epochs\": 250, \"learning_rate\": 0.0001}}]}'"
      ]
     },
     "execution_count": 24,
     "metadata": {},
     "output_type": "execute_result"
    }
   ],
   "source": [
    "json_dict = {\n",
    "    'experiment_group': 'Ensemble 3',\n",
    "    'experiments': experiments\n",
    "}\n",
    "json.dumps(json_dict)"
   ]
  },
  {
   "cell_type": "code",
   "execution_count": 25,
   "metadata": {
    "collapsed": true
   },
   "outputs": [],
   "source": [
    "with open('sample.json', 'w') as outfile:\n",
    "    json.dump(json_dict, outfile)"
   ]
  },
  {
   "cell_type": "code",
   "execution_count": null,
   "metadata": {
    "collapsed": true
   },
   "outputs": [],
   "source": []
  }
 ],
 "metadata": {
  "kernelspec": {
   "display_name": "Python 3",
   "language": "python",
   "name": "python3"
  },
  "language_info": {
   "codemirror_mode": {
    "name": "ipython",
    "version": 3
   },
   "file_extension": ".py",
   "mimetype": "text/x-python",
   "name": "python",
   "nbconvert_exporter": "python",
   "pygments_lexer": "ipython3",
   "version": "3.6.3"
  }
 },
 "nbformat": 4,
 "nbformat_minor": 2
}
