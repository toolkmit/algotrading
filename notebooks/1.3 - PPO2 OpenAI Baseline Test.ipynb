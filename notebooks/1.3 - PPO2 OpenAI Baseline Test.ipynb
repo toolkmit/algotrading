{
 "cells": [
  {
   "cell_type": "code",
   "execution_count": 1,
   "metadata": {
    "collapsed": true
   },
   "outputs": [],
   "source": [
    "import gym\n",
    "import sys\n",
    "import multiprocessing\n",
    "import numpy as np\n",
    "import tensorflow as tf\n",
    "from baselines.ppo2 import ppo2\n",
    "from baselines.ppo2.policies import CnnPolicy\n",
    "from baselines.common.vec_env.vec_frame_stack import VecFrameStack\n",
    "from baselines.common.cmd_util import make_atari_env"
   ]
  },
  {
   "cell_type": "code",
   "execution_count": 2,
   "metadata": {
    "collapsed": true
   },
   "outputs": [],
   "source": [
    "load_path = '/tmp/openai-2018-05-18-11-23-51-343727/checkpoints/01600'"
   ]
  },
  {
   "cell_type": "code",
   "execution_count": 2,
   "metadata": {
    "collapsed": true
   },
   "outputs": [],
   "source": [
    "env = VecFrameStack(make_atari_env('BreakoutNoFrameskip-v4',8,0),4)"
   ]
  },
  {
   "cell_type": "code",
   "execution_count": 4,
   "metadata": {},
   "outputs": [
    {
     "data": {
      "text/plain": [
       "Box(84, 84, 4)"
      ]
     },
     "execution_count": 4,
     "metadata": {},
     "output_type": "execute_result"
    }
   ],
   "source": [
    "obs = env.reset()\n",
    "obs.shape\n",
    "env.observation_space"
   ]
  },
  {
   "cell_type": "code",
   "execution_count": 5,
   "metadata": {},
   "outputs": [
    {
     "data": {
      "text/plain": [
       "<tensorflow.python.client.session.Session at 0x7f8ef5084da0>"
      ]
     },
     "execution_count": 5,
     "metadata": {},
     "output_type": "execute_result"
    }
   ],
   "source": [
    "ncpu = multiprocessing.cpu_count()\n",
    "if sys.platform == 'darwin': ncpu //= 2\n",
    "config = tf.ConfigProto(allow_soft_placement=True,\n",
    "                        intra_op_parallelism_threads=ncpu,\n",
    "                        inter_op_parallelism_threads=ncpu)\n",
    "config.gpu_options.allow_growth = True #pylint: disable=E1101\n",
    "tf.Session(config=config).__enter__()"
   ]
  },
  {
   "cell_type": "code",
   "execution_count": 6,
   "metadata": {},
   "outputs": [
    {
     "name": "stdout",
     "output_type": "stream",
     "text": [
      "WARNING:tensorflow:From /home/ubuntu/repos/baselines/baselines/common/distributions.py:148: softmax_cross_entropy_with_logits (from tensorflow.python.ops.nn_ops) is deprecated and will be removed in a future version.\n",
      "Instructions for updating:\n",
      "\n",
      "Future major versions of TensorFlow will allow gradients to flow\n",
      "into the labels input on backprop by default.\n",
      "\n",
      "See @{tf.nn.softmax_cross_entropy_with_logits_v2}.\n",
      "\n",
      "WARNING:tensorflow:From /home/ubuntu/repos/baselines/baselines/common/distributions.py:159: calling reduce_max (from tensorflow.python.ops.math_ops) with keep_dims is deprecated and will be removed in a future version.\n",
      "Instructions for updating:\n",
      "keep_dims is deprecated, use keepdims instead\n",
      "WARNING:tensorflow:From /home/ubuntu/repos/baselines/baselines/common/distributions.py:161: calling reduce_sum (from tensorflow.python.ops.math_ops) with keep_dims is deprecated and will be removed in a future version.\n",
      "Instructions for updating:\n",
      "keep_dims is deprecated, use keepdims instead\n"
     ]
    }
   ],
   "source": [
    "policy = CnnPolicy\n",
    "ob_space = env.observation_space\n",
    "ac_space = env.action_space\n",
    "nbatch_act = 1 * 8\n",
    "nbatch_train = 32 * 8\n",
    "nsteps = 128\n",
    "ent_coef = 0.1\n",
    "vf_coef = 0.5\n",
    "max_grad_norm = 0.5\n",
    "make_model = lambda : ppo2.Model(policy=policy, ob_space=ob_space, ac_space=ac_space, \n",
    "                            nbatch_act=nbatch_act, nbatch_train=nbatch_train, nsteps=nsteps, \n",
    "                            ent_coef=ent_coef, vf_coef=vf_coef, max_grad_norm=max_grad_norm)\n",
    "model = make_model()"
   ]
  },
  {
   "cell_type": "code",
   "execution_count": 7,
   "metadata": {
    "collapsed": true
   },
   "outputs": [],
   "source": [
    "model.load(load_path)"
   ]
  },
  {
   "cell_type": "code",
   "execution_count": 8,
   "metadata": {
    "collapsed": true
   },
   "outputs": [],
   "source": [
    "actions, _, _, _, = model.step(obs)"
   ]
  },
  {
   "cell_type": "code",
   "execution_count": 9,
   "metadata": {},
   "outputs": [
    {
     "data": {
      "text/plain": [
       "array([0, 0, 0, 0, 0, 0, 0, 0])"
      ]
     },
     "execution_count": 9,
     "metadata": {},
     "output_type": "execute_result"
    }
   ],
   "source": [
    "actions"
   ]
  },
  {
   "cell_type": "code",
   "execution_count": 10,
   "metadata": {},
   "outputs": [
    {
     "data": {
      "text/plain": [
       "(array([[[[0, 0, 0, 0],\n",
       "          [0, 0, 0, 0],\n",
       "          [0, 0, 0, 0],\n",
       "          ...,\n",
       "          [0, 0, 0, 0],\n",
       "          [0, 0, 0, 0],\n",
       "          [0, 0, 0, 0]],\n",
       " \n",
       "         [[0, 0, 0, 0],\n",
       "          [0, 0, 0, 0],\n",
       "          [0, 0, 0, 0],\n",
       "          ...,\n",
       "          [0, 0, 0, 0],\n",
       "          [0, 0, 0, 0],\n",
       "          [0, 0, 0, 0]],\n",
       " \n",
       "         [[0, 0, 0, 0],\n",
       "          [0, 0, 0, 0],\n",
       "          [0, 0, 0, 0],\n",
       "          ...,\n",
       "          [0, 0, 0, 0],\n",
       "          [0, 0, 0, 0],\n",
       "          [0, 0, 0, 0]],\n",
       " \n",
       "         ...,\n",
       " \n",
       "         [[0, 0, 0, 0],\n",
       "          [0, 0, 0, 0],\n",
       "          [0, 0, 0, 0],\n",
       "          ...,\n",
       "          [0, 0, 0, 0],\n",
       "          [0, 0, 0, 0],\n",
       "          [0, 0, 0, 0]],\n",
       " \n",
       "         [[0, 0, 0, 0],\n",
       "          [0, 0, 0, 0],\n",
       "          [0, 0, 0, 0],\n",
       "          ...,\n",
       "          [0, 0, 0, 0],\n",
       "          [0, 0, 0, 0],\n",
       "          [0, 0, 0, 0]],\n",
       " \n",
       "         [[0, 0, 0, 0],\n",
       "          [0, 0, 0, 0],\n",
       "          [0, 0, 0, 0],\n",
       "          ...,\n",
       "          [0, 0, 0, 0],\n",
       "          [0, 0, 0, 0],\n",
       "          [0, 0, 0, 0]]],\n",
       " \n",
       " \n",
       "        [[[0, 0, 0, 0],\n",
       "          [0, 0, 0, 0],\n",
       "          [0, 0, 0, 0],\n",
       "          ...,\n",
       "          [0, 0, 0, 0],\n",
       "          [0, 0, 0, 0],\n",
       "          [0, 0, 0, 0]],\n",
       " \n",
       "         [[0, 0, 0, 0],\n",
       "          [0, 0, 0, 0],\n",
       "          [0, 0, 0, 0],\n",
       "          ...,\n",
       "          [0, 0, 0, 0],\n",
       "          [0, 0, 0, 0],\n",
       "          [0, 0, 0, 0]],\n",
       " \n",
       "         [[0, 0, 0, 0],\n",
       "          [0, 0, 0, 0],\n",
       "          [0, 0, 0, 0],\n",
       "          ...,\n",
       "          [0, 0, 0, 0],\n",
       "          [0, 0, 0, 0],\n",
       "          [0, 0, 0, 0]],\n",
       " \n",
       "         ...,\n",
       " \n",
       "         [[0, 0, 0, 0],\n",
       "          [0, 0, 0, 0],\n",
       "          [0, 0, 0, 0],\n",
       "          ...,\n",
       "          [0, 0, 0, 0],\n",
       "          [0, 0, 0, 0],\n",
       "          [0, 0, 0, 0]],\n",
       " \n",
       "         [[0, 0, 0, 0],\n",
       "          [0, 0, 0, 0],\n",
       "          [0, 0, 0, 0],\n",
       "          ...,\n",
       "          [0, 0, 0, 0],\n",
       "          [0, 0, 0, 0],\n",
       "          [0, 0, 0, 0]],\n",
       " \n",
       "         [[0, 0, 0, 0],\n",
       "          [0, 0, 0, 0],\n",
       "          [0, 0, 0, 0],\n",
       "          ...,\n",
       "          [0, 0, 0, 0],\n",
       "          [0, 0, 0, 0],\n",
       "          [0, 0, 0, 0]]],\n",
       " \n",
       " \n",
       "        [[[0, 0, 0, 0],\n",
       "          [0, 0, 0, 0],\n",
       "          [0, 0, 0, 0],\n",
       "          ...,\n",
       "          [0, 0, 0, 0],\n",
       "          [0, 0, 0, 0],\n",
       "          [0, 0, 0, 0]],\n",
       " \n",
       "         [[0, 0, 0, 0],\n",
       "          [0, 0, 0, 0],\n",
       "          [0, 0, 0, 0],\n",
       "          ...,\n",
       "          [0, 0, 0, 0],\n",
       "          [0, 0, 0, 0],\n",
       "          [0, 0, 0, 0]],\n",
       " \n",
       "         [[0, 0, 0, 0],\n",
       "          [0, 0, 0, 0],\n",
       "          [0, 0, 0, 0],\n",
       "          ...,\n",
       "          [0, 0, 0, 0],\n",
       "          [0, 0, 0, 0],\n",
       "          [0, 0, 0, 0]],\n",
       " \n",
       "         ...,\n",
       " \n",
       "         [[0, 0, 0, 0],\n",
       "          [0, 0, 0, 0],\n",
       "          [0, 0, 0, 0],\n",
       "          ...,\n",
       "          [0, 0, 0, 0],\n",
       "          [0, 0, 0, 0],\n",
       "          [0, 0, 0, 0]],\n",
       " \n",
       "         [[0, 0, 0, 0],\n",
       "          [0, 0, 0, 0],\n",
       "          [0, 0, 0, 0],\n",
       "          ...,\n",
       "          [0, 0, 0, 0],\n",
       "          [0, 0, 0, 0],\n",
       "          [0, 0, 0, 0]],\n",
       " \n",
       "         [[0, 0, 0, 0],\n",
       "          [0, 0, 0, 0],\n",
       "          [0, 0, 0, 0],\n",
       "          ...,\n",
       "          [0, 0, 0, 0],\n",
       "          [0, 0, 0, 0],\n",
       "          [0, 0, 0, 0]]],\n",
       " \n",
       " \n",
       "        ...,\n",
       " \n",
       " \n",
       "        [[[0, 0, 0, 0],\n",
       "          [0, 0, 0, 0],\n",
       "          [0, 0, 0, 0],\n",
       "          ...,\n",
       "          [0, 0, 0, 0],\n",
       "          [0, 0, 0, 0],\n",
       "          [0, 0, 0, 0]],\n",
       " \n",
       "         [[0, 0, 0, 0],\n",
       "          [0, 0, 0, 0],\n",
       "          [0, 0, 0, 0],\n",
       "          ...,\n",
       "          [0, 0, 0, 0],\n",
       "          [0, 0, 0, 0],\n",
       "          [0, 0, 0, 0]],\n",
       " \n",
       "         [[0, 0, 0, 0],\n",
       "          [0, 0, 0, 0],\n",
       "          [0, 0, 0, 0],\n",
       "          ...,\n",
       "          [0, 0, 0, 0],\n",
       "          [0, 0, 0, 0],\n",
       "          [0, 0, 0, 0]],\n",
       " \n",
       "         ...,\n",
       " \n",
       "         [[0, 0, 0, 0],\n",
       "          [0, 0, 0, 0],\n",
       "          [0, 0, 0, 0],\n",
       "          ...,\n",
       "          [0, 0, 0, 0],\n",
       "          [0, 0, 0, 0],\n",
       "          [0, 0, 0, 0]],\n",
       " \n",
       "         [[0, 0, 0, 0],\n",
       "          [0, 0, 0, 0],\n",
       "          [0, 0, 0, 0],\n",
       "          ...,\n",
       "          [0, 0, 0, 0],\n",
       "          [0, 0, 0, 0],\n",
       "          [0, 0, 0, 0]],\n",
       " \n",
       "         [[0, 0, 0, 0],\n",
       "          [0, 0, 0, 0],\n",
       "          [0, 0, 0, 0],\n",
       "          ...,\n",
       "          [0, 0, 0, 0],\n",
       "          [0, 0, 0, 0],\n",
       "          [0, 0, 0, 0]]],\n",
       " \n",
       " \n",
       "        [[[0, 0, 0, 0],\n",
       "          [0, 0, 0, 0],\n",
       "          [0, 0, 0, 0],\n",
       "          ...,\n",
       "          [0, 0, 0, 0],\n",
       "          [0, 0, 0, 0],\n",
       "          [0, 0, 0, 0]],\n",
       " \n",
       "         [[0, 0, 0, 0],\n",
       "          [0, 0, 0, 0],\n",
       "          [0, 0, 0, 0],\n",
       "          ...,\n",
       "          [0, 0, 0, 0],\n",
       "          [0, 0, 0, 0],\n",
       "          [0, 0, 0, 0]],\n",
       " \n",
       "         [[0, 0, 0, 0],\n",
       "          [0, 0, 0, 0],\n",
       "          [0, 0, 0, 0],\n",
       "          ...,\n",
       "          [0, 0, 0, 0],\n",
       "          [0, 0, 0, 0],\n",
       "          [0, 0, 0, 0]],\n",
       " \n",
       "         ...,\n",
       " \n",
       "         [[0, 0, 0, 0],\n",
       "          [0, 0, 0, 0],\n",
       "          [0, 0, 0, 0],\n",
       "          ...,\n",
       "          [0, 0, 0, 0],\n",
       "          [0, 0, 0, 0],\n",
       "          [0, 0, 0, 0]],\n",
       " \n",
       "         [[0, 0, 0, 0],\n",
       "          [0, 0, 0, 0],\n",
       "          [0, 0, 0, 0],\n",
       "          ...,\n",
       "          [0, 0, 0, 0],\n",
       "          [0, 0, 0, 0],\n",
       "          [0, 0, 0, 0]],\n",
       " \n",
       "         [[0, 0, 0, 0],\n",
       "          [0, 0, 0, 0],\n",
       "          [0, 0, 0, 0],\n",
       "          ...,\n",
       "          [0, 0, 0, 0],\n",
       "          [0, 0, 0, 0],\n",
       "          [0, 0, 0, 0]]],\n",
       " \n",
       " \n",
       "        [[[0, 0, 0, 0],\n",
       "          [0, 0, 0, 0],\n",
       "          [0, 0, 0, 0],\n",
       "          ...,\n",
       "          [0, 0, 0, 0],\n",
       "          [0, 0, 0, 0],\n",
       "          [0, 0, 0, 0]],\n",
       " \n",
       "         [[0, 0, 0, 0],\n",
       "          [0, 0, 0, 0],\n",
       "          [0, 0, 0, 0],\n",
       "          ...,\n",
       "          [0, 0, 0, 0],\n",
       "          [0, 0, 0, 0],\n",
       "          [0, 0, 0, 0]],\n",
       " \n",
       "         [[0, 0, 0, 0],\n",
       "          [0, 0, 0, 0],\n",
       "          [0, 0, 0, 0],\n",
       "          ...,\n",
       "          [0, 0, 0, 0],\n",
       "          [0, 0, 0, 0],\n",
       "          [0, 0, 0, 0]],\n",
       " \n",
       "         ...,\n",
       " \n",
       "         [[0, 0, 0, 0],\n",
       "          [0, 0, 0, 0],\n",
       "          [0, 0, 0, 0],\n",
       "          ...,\n",
       "          [0, 0, 0, 0],\n",
       "          [0, 0, 0, 0],\n",
       "          [0, 0, 0, 0]],\n",
       " \n",
       "         [[0, 0, 0, 0],\n",
       "          [0, 0, 0, 0],\n",
       "          [0, 0, 0, 0],\n",
       "          ...,\n",
       "          [0, 0, 0, 0],\n",
       "          [0, 0, 0, 0],\n",
       "          [0, 0, 0, 0]],\n",
       " \n",
       "         [[0, 0, 0, 0],\n",
       "          [0, 0, 0, 0],\n",
       "          [0, 0, 0, 0],\n",
       "          ...,\n",
       "          [0, 0, 0, 0],\n",
       "          [0, 0, 0, 0],\n",
       "          [0, 0, 0, 0]]]], dtype=uint8),\n",
       " array([0., 0., 0., 0., 0., 0., 0., 0.]),\n",
       " array([False, False, False, False, False, False, False, False]),\n",
       " ({'ale.lives': 5},\n",
       "  {'ale.lives': 5},\n",
       "  {'ale.lives': 5},\n",
       "  {'ale.lives': 5},\n",
       "  {'ale.lives': 5},\n",
       "  {'ale.lives': 5},\n",
       "  {'ale.lives': 5},\n",
       "  {'ale.lives': 5}))"
      ]
     },
     "execution_count": 10,
     "metadata": {},
     "output_type": "execute_result"
    }
   ],
   "source": [
    "env.step(actions)"
   ]
  },
  {
   "cell_type": "code",
   "execution_count": 9,
   "metadata": {
    "collapsed": true
   },
   "outputs": [],
   "source": [
    "env.venv.render()"
   ]
  },
  {
   "cell_type": "code",
   "execution_count": 12,
   "metadata": {},
   "outputs": [
    {
     "ename": "KeyboardInterrupt",
     "evalue": "",
     "output_type": "error",
     "traceback": [
      "\u001b[0;31m---------------------------------------------------------------------------\u001b[0m",
      "\u001b[0;31mKeyboardInterrupt\u001b[0m                         Traceback (most recent call last)",
      "\u001b[0;32m<ipython-input-12-1aa7e1f7ad15>\u001b[0m in \u001b[0;36m<module>\u001b[0;34m()\u001b[0m\n\u001b[1;32m      2\u001b[0m \u001b[0;32mwhile\u001b[0m \u001b[0;32mTrue\u001b[0m\u001b[0;34m:\u001b[0m\u001b[0;34m\u001b[0m\u001b[0m\n\u001b[1;32m      3\u001b[0m     \u001b[0mactions\u001b[0m\u001b[0;34m,\u001b[0m \u001b[0m_\u001b[0m\u001b[0;34m,\u001b[0m \u001b[0m_\u001b[0m\u001b[0;34m,\u001b[0m \u001b[0m_\u001b[0m\u001b[0;34m,\u001b[0m \u001b[0;34m=\u001b[0m \u001b[0mmodel\u001b[0m\u001b[0;34m.\u001b[0m\u001b[0mstep\u001b[0m\u001b[0;34m(\u001b[0m\u001b[0mobs\u001b[0m\u001b[0;34m)\u001b[0m\u001b[0;34m\u001b[0m\u001b[0m\n\u001b[0;32m----> 4\u001b[0;31m     \u001b[0menv\u001b[0m\u001b[0;34m.\u001b[0m\u001b[0mstep\u001b[0m\u001b[0;34m(\u001b[0m\u001b[0mactions\u001b[0m\u001b[0;34m)\u001b[0m\u001b[0;34m\u001b[0m\u001b[0m\n\u001b[0m\u001b[1;32m      5\u001b[0m     \u001b[0menv\u001b[0m\u001b[0;34m.\u001b[0m\u001b[0mvenv\u001b[0m\u001b[0;34m.\u001b[0m\u001b[0mrender\u001b[0m\u001b[0;34m(\u001b[0m\u001b[0;34m)\u001b[0m\u001b[0;34m\u001b[0m\u001b[0m\n\u001b[1;32m      6\u001b[0m \u001b[0;34m\u001b[0m\u001b[0m\n",
      "\u001b[0;32m~/repos/baselines/baselines/common/vec_env/__init__.py\u001b[0m in \u001b[0;36mstep\u001b[0;34m(self, actions)\u001b[0m\n\u001b[1;32m     76\u001b[0m     \u001b[0;32mdef\u001b[0m \u001b[0mstep\u001b[0m\u001b[0;34m(\u001b[0m\u001b[0mself\u001b[0m\u001b[0;34m,\u001b[0m \u001b[0mactions\u001b[0m\u001b[0;34m)\u001b[0m\u001b[0;34m:\u001b[0m\u001b[0;34m\u001b[0m\u001b[0m\n\u001b[1;32m     77\u001b[0m         \u001b[0mself\u001b[0m\u001b[0;34m.\u001b[0m\u001b[0mstep_async\u001b[0m\u001b[0;34m(\u001b[0m\u001b[0mactions\u001b[0m\u001b[0;34m)\u001b[0m\u001b[0;34m\u001b[0m\u001b[0m\n\u001b[0;32m---> 78\u001b[0;31m         \u001b[0;32mreturn\u001b[0m \u001b[0mself\u001b[0m\u001b[0;34m.\u001b[0m\u001b[0mstep_wait\u001b[0m\u001b[0;34m(\u001b[0m\u001b[0;34m)\u001b[0m\u001b[0;34m\u001b[0m\u001b[0m\n\u001b[0m\u001b[1;32m     79\u001b[0m \u001b[0;34m\u001b[0m\u001b[0m\n\u001b[1;32m     80\u001b[0m     \u001b[0;32mdef\u001b[0m \u001b[0mrender\u001b[0m\u001b[0;34m(\u001b[0m\u001b[0mself\u001b[0m\u001b[0;34m)\u001b[0m\u001b[0;34m:\u001b[0m\u001b[0;34m\u001b[0m\u001b[0m\n",
      "\u001b[0;32m~/repos/baselines/baselines/common/vec_env/vec_frame_stack.py\u001b[0m in \u001b[0;36mstep_wait\u001b[0;34m(self)\u001b[0m\n\u001b[1;32m     18\u001b[0m \u001b[0;34m\u001b[0m\u001b[0m\n\u001b[1;32m     19\u001b[0m     \u001b[0;32mdef\u001b[0m \u001b[0mstep_wait\u001b[0m\u001b[0;34m(\u001b[0m\u001b[0mself\u001b[0m\u001b[0;34m)\u001b[0m\u001b[0;34m:\u001b[0m\u001b[0;34m\u001b[0m\u001b[0m\n\u001b[0;32m---> 20\u001b[0;31m         \u001b[0mobs\u001b[0m\u001b[0;34m,\u001b[0m \u001b[0mrews\u001b[0m\u001b[0;34m,\u001b[0m \u001b[0mnews\u001b[0m\u001b[0;34m,\u001b[0m \u001b[0minfos\u001b[0m \u001b[0;34m=\u001b[0m \u001b[0mself\u001b[0m\u001b[0;34m.\u001b[0m\u001b[0mvenv\u001b[0m\u001b[0;34m.\u001b[0m\u001b[0mstep_wait\u001b[0m\u001b[0;34m(\u001b[0m\u001b[0;34m)\u001b[0m\u001b[0;34m\u001b[0m\u001b[0m\n\u001b[0m\u001b[1;32m     21\u001b[0m         \u001b[0mself\u001b[0m\u001b[0;34m.\u001b[0m\u001b[0mstackedobs\u001b[0m \u001b[0;34m=\u001b[0m \u001b[0mnp\u001b[0m\u001b[0;34m.\u001b[0m\u001b[0mroll\u001b[0m\u001b[0;34m(\u001b[0m\u001b[0mself\u001b[0m\u001b[0;34m.\u001b[0m\u001b[0mstackedobs\u001b[0m\u001b[0;34m,\u001b[0m \u001b[0mshift\u001b[0m\u001b[0;34m=\u001b[0m\u001b[0;34m-\u001b[0m\u001b[0;36m1\u001b[0m\u001b[0;34m,\u001b[0m \u001b[0maxis\u001b[0m\u001b[0;34m=\u001b[0m\u001b[0;34m-\u001b[0m\u001b[0;36m1\u001b[0m\u001b[0;34m)\u001b[0m\u001b[0;34m\u001b[0m\u001b[0m\n\u001b[1;32m     22\u001b[0m         \u001b[0;32mfor\u001b[0m \u001b[0;34m(\u001b[0m\u001b[0mi\u001b[0m\u001b[0;34m,\u001b[0m \u001b[0mnew\u001b[0m\u001b[0;34m)\u001b[0m \u001b[0;32min\u001b[0m \u001b[0menumerate\u001b[0m\u001b[0;34m(\u001b[0m\u001b[0mnews\u001b[0m\u001b[0;34m)\u001b[0m\u001b[0;34m:\u001b[0m\u001b[0;34m\u001b[0m\u001b[0m\n",
      "\u001b[0;32m~/repos/baselines/baselines/common/vec_env/subproc_vec_env.py\u001b[0m in \u001b[0;36mstep_wait\u001b[0;34m(self)\u001b[0m\n\u001b[1;32m     58\u001b[0m \u001b[0;34m\u001b[0m\u001b[0m\n\u001b[1;32m     59\u001b[0m     \u001b[0;32mdef\u001b[0m \u001b[0mstep_wait\u001b[0m\u001b[0;34m(\u001b[0m\u001b[0mself\u001b[0m\u001b[0;34m)\u001b[0m\u001b[0;34m:\u001b[0m\u001b[0;34m\u001b[0m\u001b[0m\n\u001b[0;32m---> 60\u001b[0;31m         \u001b[0mresults\u001b[0m \u001b[0;34m=\u001b[0m \u001b[0;34m[\u001b[0m\u001b[0mremote\u001b[0m\u001b[0;34m.\u001b[0m\u001b[0mrecv\u001b[0m\u001b[0;34m(\u001b[0m\u001b[0;34m)\u001b[0m \u001b[0;32mfor\u001b[0m \u001b[0mremote\u001b[0m \u001b[0;32min\u001b[0m \u001b[0mself\u001b[0m\u001b[0;34m.\u001b[0m\u001b[0mremotes\u001b[0m\u001b[0;34m]\u001b[0m\u001b[0;34m\u001b[0m\u001b[0m\n\u001b[0m\u001b[1;32m     61\u001b[0m         \u001b[0mself\u001b[0m\u001b[0;34m.\u001b[0m\u001b[0mwaiting\u001b[0m \u001b[0;34m=\u001b[0m \u001b[0;32mFalse\u001b[0m\u001b[0;34m\u001b[0m\u001b[0m\n\u001b[1;32m     62\u001b[0m         \u001b[0mobs\u001b[0m\u001b[0;34m,\u001b[0m \u001b[0mrews\u001b[0m\u001b[0;34m,\u001b[0m \u001b[0mdones\u001b[0m\u001b[0;34m,\u001b[0m \u001b[0minfos\u001b[0m \u001b[0;34m=\u001b[0m \u001b[0mzip\u001b[0m\u001b[0;34m(\u001b[0m\u001b[0;34m*\u001b[0m\u001b[0mresults\u001b[0m\u001b[0;34m)\u001b[0m\u001b[0;34m\u001b[0m\u001b[0m\n",
      "\u001b[0;32m~/repos/baselines/baselines/common/vec_env/subproc_vec_env.py\u001b[0m in \u001b[0;36m<listcomp>\u001b[0;34m(.0)\u001b[0m\n\u001b[1;32m     58\u001b[0m \u001b[0;34m\u001b[0m\u001b[0m\n\u001b[1;32m     59\u001b[0m     \u001b[0;32mdef\u001b[0m \u001b[0mstep_wait\u001b[0m\u001b[0;34m(\u001b[0m\u001b[0mself\u001b[0m\u001b[0;34m)\u001b[0m\u001b[0;34m:\u001b[0m\u001b[0;34m\u001b[0m\u001b[0m\n\u001b[0;32m---> 60\u001b[0;31m         \u001b[0mresults\u001b[0m \u001b[0;34m=\u001b[0m \u001b[0;34m[\u001b[0m\u001b[0mremote\u001b[0m\u001b[0;34m.\u001b[0m\u001b[0mrecv\u001b[0m\u001b[0;34m(\u001b[0m\u001b[0;34m)\u001b[0m \u001b[0;32mfor\u001b[0m \u001b[0mremote\u001b[0m \u001b[0;32min\u001b[0m \u001b[0mself\u001b[0m\u001b[0;34m.\u001b[0m\u001b[0mremotes\u001b[0m\u001b[0;34m]\u001b[0m\u001b[0;34m\u001b[0m\u001b[0m\n\u001b[0m\u001b[1;32m     61\u001b[0m         \u001b[0mself\u001b[0m\u001b[0;34m.\u001b[0m\u001b[0mwaiting\u001b[0m \u001b[0;34m=\u001b[0m \u001b[0;32mFalse\u001b[0m\u001b[0;34m\u001b[0m\u001b[0m\n\u001b[1;32m     62\u001b[0m         \u001b[0mobs\u001b[0m\u001b[0;34m,\u001b[0m \u001b[0mrews\u001b[0m\u001b[0;34m,\u001b[0m \u001b[0mdones\u001b[0m\u001b[0;34m,\u001b[0m \u001b[0minfos\u001b[0m \u001b[0;34m=\u001b[0m \u001b[0mzip\u001b[0m\u001b[0;34m(\u001b[0m\u001b[0;34m*\u001b[0m\u001b[0mresults\u001b[0m\u001b[0;34m)\u001b[0m\u001b[0;34m\u001b[0m\u001b[0m\n",
      "\u001b[0;32m~/src/anaconda3/envs/tensorflow/lib/python3.6/multiprocessing/connection.py\u001b[0m in \u001b[0;36mrecv\u001b[0;34m(self)\u001b[0m\n\u001b[1;32m    248\u001b[0m         \u001b[0mself\u001b[0m\u001b[0;34m.\u001b[0m\u001b[0m_check_closed\u001b[0m\u001b[0;34m(\u001b[0m\u001b[0;34m)\u001b[0m\u001b[0;34m\u001b[0m\u001b[0m\n\u001b[1;32m    249\u001b[0m         \u001b[0mself\u001b[0m\u001b[0;34m.\u001b[0m\u001b[0m_check_readable\u001b[0m\u001b[0;34m(\u001b[0m\u001b[0;34m)\u001b[0m\u001b[0;34m\u001b[0m\u001b[0m\n\u001b[0;32m--> 250\u001b[0;31m         \u001b[0mbuf\u001b[0m \u001b[0;34m=\u001b[0m \u001b[0mself\u001b[0m\u001b[0;34m.\u001b[0m\u001b[0m_recv_bytes\u001b[0m\u001b[0;34m(\u001b[0m\u001b[0;34m)\u001b[0m\u001b[0;34m\u001b[0m\u001b[0m\n\u001b[0m\u001b[1;32m    251\u001b[0m         \u001b[0;32mreturn\u001b[0m \u001b[0m_ForkingPickler\u001b[0m\u001b[0;34m.\u001b[0m\u001b[0mloads\u001b[0m\u001b[0;34m(\u001b[0m\u001b[0mbuf\u001b[0m\u001b[0;34m.\u001b[0m\u001b[0mgetbuffer\u001b[0m\u001b[0;34m(\u001b[0m\u001b[0;34m)\u001b[0m\u001b[0;34m)\u001b[0m\u001b[0;34m\u001b[0m\u001b[0m\n\u001b[1;32m    252\u001b[0m \u001b[0;34m\u001b[0m\u001b[0m\n",
      "\u001b[0;32m~/src/anaconda3/envs/tensorflow/lib/python3.6/multiprocessing/connection.py\u001b[0m in \u001b[0;36m_recv_bytes\u001b[0;34m(self, maxsize)\u001b[0m\n\u001b[1;32m    405\u001b[0m \u001b[0;34m\u001b[0m\u001b[0m\n\u001b[1;32m    406\u001b[0m     \u001b[0;32mdef\u001b[0m \u001b[0m_recv_bytes\u001b[0m\u001b[0;34m(\u001b[0m\u001b[0mself\u001b[0m\u001b[0;34m,\u001b[0m \u001b[0mmaxsize\u001b[0m\u001b[0;34m=\u001b[0m\u001b[0;32mNone\u001b[0m\u001b[0;34m)\u001b[0m\u001b[0;34m:\u001b[0m\u001b[0;34m\u001b[0m\u001b[0m\n\u001b[0;32m--> 407\u001b[0;31m         \u001b[0mbuf\u001b[0m \u001b[0;34m=\u001b[0m \u001b[0mself\u001b[0m\u001b[0;34m.\u001b[0m\u001b[0m_recv\u001b[0m\u001b[0;34m(\u001b[0m\u001b[0;36m4\u001b[0m\u001b[0;34m)\u001b[0m\u001b[0;34m\u001b[0m\u001b[0m\n\u001b[0m\u001b[1;32m    408\u001b[0m         \u001b[0msize\u001b[0m\u001b[0;34m,\u001b[0m \u001b[0;34m=\u001b[0m \u001b[0mstruct\u001b[0m\u001b[0;34m.\u001b[0m\u001b[0munpack\u001b[0m\u001b[0;34m(\u001b[0m\u001b[0;34m\"!i\"\u001b[0m\u001b[0;34m,\u001b[0m \u001b[0mbuf\u001b[0m\u001b[0;34m.\u001b[0m\u001b[0mgetvalue\u001b[0m\u001b[0;34m(\u001b[0m\u001b[0;34m)\u001b[0m\u001b[0;34m)\u001b[0m\u001b[0;34m\u001b[0m\u001b[0m\n\u001b[1;32m    409\u001b[0m         \u001b[0;32mif\u001b[0m \u001b[0mmaxsize\u001b[0m \u001b[0;32mis\u001b[0m \u001b[0;32mnot\u001b[0m \u001b[0;32mNone\u001b[0m \u001b[0;32mand\u001b[0m \u001b[0msize\u001b[0m \u001b[0;34m>\u001b[0m \u001b[0mmaxsize\u001b[0m\u001b[0;34m:\u001b[0m\u001b[0;34m\u001b[0m\u001b[0m\n",
      "\u001b[0;32m~/src/anaconda3/envs/tensorflow/lib/python3.6/multiprocessing/connection.py\u001b[0m in \u001b[0;36m_recv\u001b[0;34m(self, size, read)\u001b[0m\n\u001b[1;32m    377\u001b[0m         \u001b[0mremaining\u001b[0m \u001b[0;34m=\u001b[0m \u001b[0msize\u001b[0m\u001b[0;34m\u001b[0m\u001b[0m\n\u001b[1;32m    378\u001b[0m         \u001b[0;32mwhile\u001b[0m \u001b[0mremaining\u001b[0m \u001b[0;34m>\u001b[0m \u001b[0;36m0\u001b[0m\u001b[0;34m:\u001b[0m\u001b[0;34m\u001b[0m\u001b[0m\n\u001b[0;32m--> 379\u001b[0;31m             \u001b[0mchunk\u001b[0m \u001b[0;34m=\u001b[0m \u001b[0mread\u001b[0m\u001b[0;34m(\u001b[0m\u001b[0mhandle\u001b[0m\u001b[0;34m,\u001b[0m \u001b[0mremaining\u001b[0m\u001b[0;34m)\u001b[0m\u001b[0;34m\u001b[0m\u001b[0m\n\u001b[0m\u001b[1;32m    380\u001b[0m             \u001b[0mn\u001b[0m \u001b[0;34m=\u001b[0m \u001b[0mlen\u001b[0m\u001b[0;34m(\u001b[0m\u001b[0mchunk\u001b[0m\u001b[0;34m)\u001b[0m\u001b[0;34m\u001b[0m\u001b[0m\n\u001b[1;32m    381\u001b[0m             \u001b[0;32mif\u001b[0m \u001b[0mn\u001b[0m \u001b[0;34m==\u001b[0m \u001b[0;36m0\u001b[0m\u001b[0;34m:\u001b[0m\u001b[0;34m\u001b[0m\u001b[0m\n",
      "\u001b[0;31mKeyboardInterrupt\u001b[0m: "
     ]
    }
   ],
   "source": [
    "#obs = env.reset()\n",
    "while True:\n",
    "    actions, _, _, _, = model.step(obs)\n",
    "    env.step(actions)\n",
    "    env.venv.render()\n",
    "    "
   ]
  },
  {
   "cell_type": "code",
   "execution_count": 2,
   "metadata": {
    "collapsed": true
   },
   "outputs": [],
   "source": [
    "from baselines.ppo2.policies import nature_cnn\n",
    "from baselines.a2c.utils import conv, fc"
   ]
  },
  {
   "cell_type": "code",
   "execution_count": 8,
   "metadata": {},
   "outputs": [
    {
     "data": {
      "text/plain": [
       "(8, 84, 84, 4)"
      ]
     },
     "execution_count": 8,
     "metadata": {},
     "output_type": "execute_result"
    }
   ],
   "source": [
    "obs.shape"
   ]
  },
  {
   "cell_type": "code",
   "execution_count": 3,
   "metadata": {
    "collapsed": true
   },
   "outputs": [],
   "source": [
    "ob_shape=(128,84,84,4)"
   ]
  },
  {
   "cell_type": "code",
   "execution_count": 4,
   "metadata": {},
   "outputs": [
    {
     "data": {
      "text/plain": [
       "<tf.Tensor 'v/add:0' shape=(128, 1) dtype=float32>"
      ]
     },
     "execution_count": 4,
     "metadata": {},
     "output_type": "execute_result"
    }
   ],
   "source": [
    "X = tf.placeholder(tf.uint8, ob_shape)\n",
    "h = nature_cnn(X)\n",
    "v_int = fc(h,'v',1)\n",
    "v_int"
   ]
  },
  {
   "cell_type": "code",
   "execution_count": 5,
   "metadata": {},
   "outputs": [
    {
     "data": {
      "text/plain": [
       "<tf.Tensor 'strided_slice:0' shape=(128,) dtype=float32>"
      ]
     },
     "execution_count": 5,
     "metadata": {},
     "output_type": "execute_result"
    }
   ],
   "source": [
    "v_int[:,0]"
   ]
  },
  {
   "cell_type": "code",
   "execution_count": 6,
   "metadata": {},
   "outputs": [
    {
     "data": {
      "text/plain": [
       "<tf.Tensor 'pi/add:0' shape=(128, 4) dtype=float32>"
      ]
     },
     "execution_count": 6,
     "metadata": {},
     "output_type": "execute_result"
    }
   ],
   "source": [
    "pdparam = fc(h, 'pi', 4, init_scale=1.0, init_bias=0.0)\n",
    "pdparam"
   ]
  },
  {
   "cell_type": "code",
   "execution_count": 9,
   "metadata": {},
   "outputs": [
    {
     "data": {
      "text/plain": [
       "<tf.Tensor 'random_uniform:0' shape=(128, 4) dtype=float32>"
      ]
     },
     "execution_count": 9,
     "metadata": {},
     "output_type": "execute_result"
    }
   ],
   "source": [
    "u = tf.random_uniform(tf.shape(pdparam))\n",
    "u"
   ]
  },
  {
   "cell_type": "code",
   "execution_count": 5,
   "metadata": {},
   "outputs": [
    {
     "data": {
      "text/plain": [
       "<tf.Tensor 'Reshape_1:0' shape=(2, 128, 256) dtype=float32>"
      ]
     },
     "execution_count": 5,
     "metadata": {},
     "output_type": "execute_result"
    }
   ],
   "source": [
    "h1 = tf.reshape(h, [2,128,-1])\n",
    "h1"
   ]
  },
  {
   "cell_type": "code",
   "execution_count": 9,
   "metadata": {},
   "outputs": [
    {
     "data": {
      "text/plain": [
       "[<tf.Tensor 'Squeeze_256:0' shape=(2, 256) dtype=float32>,\n",
       " <tf.Tensor 'Squeeze_257:0' shape=(2, 256) dtype=float32>,\n",
       " <tf.Tensor 'Squeeze_258:0' shape=(2, 256) dtype=float32>,\n",
       " <tf.Tensor 'Squeeze_259:0' shape=(2, 256) dtype=float32>,\n",
       " <tf.Tensor 'Squeeze_260:0' shape=(2, 256) dtype=float32>,\n",
       " <tf.Tensor 'Squeeze_261:0' shape=(2, 256) dtype=float32>,\n",
       " <tf.Tensor 'Squeeze_262:0' shape=(2, 256) dtype=float32>,\n",
       " <tf.Tensor 'Squeeze_263:0' shape=(2, 256) dtype=float32>,\n",
       " <tf.Tensor 'Squeeze_264:0' shape=(2, 256) dtype=float32>,\n",
       " <tf.Tensor 'Squeeze_265:0' shape=(2, 256) dtype=float32>,\n",
       " <tf.Tensor 'Squeeze_266:0' shape=(2, 256) dtype=float32>,\n",
       " <tf.Tensor 'Squeeze_267:0' shape=(2, 256) dtype=float32>,\n",
       " <tf.Tensor 'Squeeze_268:0' shape=(2, 256) dtype=float32>,\n",
       " <tf.Tensor 'Squeeze_269:0' shape=(2, 256) dtype=float32>,\n",
       " <tf.Tensor 'Squeeze_270:0' shape=(2, 256) dtype=float32>,\n",
       " <tf.Tensor 'Squeeze_271:0' shape=(2, 256) dtype=float32>,\n",
       " <tf.Tensor 'Squeeze_272:0' shape=(2, 256) dtype=float32>,\n",
       " <tf.Tensor 'Squeeze_273:0' shape=(2, 256) dtype=float32>,\n",
       " <tf.Tensor 'Squeeze_274:0' shape=(2, 256) dtype=float32>,\n",
       " <tf.Tensor 'Squeeze_275:0' shape=(2, 256) dtype=float32>,\n",
       " <tf.Tensor 'Squeeze_276:0' shape=(2, 256) dtype=float32>,\n",
       " <tf.Tensor 'Squeeze_277:0' shape=(2, 256) dtype=float32>,\n",
       " <tf.Tensor 'Squeeze_278:0' shape=(2, 256) dtype=float32>,\n",
       " <tf.Tensor 'Squeeze_279:0' shape=(2, 256) dtype=float32>,\n",
       " <tf.Tensor 'Squeeze_280:0' shape=(2, 256) dtype=float32>,\n",
       " <tf.Tensor 'Squeeze_281:0' shape=(2, 256) dtype=float32>,\n",
       " <tf.Tensor 'Squeeze_282:0' shape=(2, 256) dtype=float32>,\n",
       " <tf.Tensor 'Squeeze_283:0' shape=(2, 256) dtype=float32>,\n",
       " <tf.Tensor 'Squeeze_284:0' shape=(2, 256) dtype=float32>,\n",
       " <tf.Tensor 'Squeeze_285:0' shape=(2, 256) dtype=float32>,\n",
       " <tf.Tensor 'Squeeze_286:0' shape=(2, 256) dtype=float32>,\n",
       " <tf.Tensor 'Squeeze_287:0' shape=(2, 256) dtype=float32>,\n",
       " <tf.Tensor 'Squeeze_288:0' shape=(2, 256) dtype=float32>,\n",
       " <tf.Tensor 'Squeeze_289:0' shape=(2, 256) dtype=float32>,\n",
       " <tf.Tensor 'Squeeze_290:0' shape=(2, 256) dtype=float32>,\n",
       " <tf.Tensor 'Squeeze_291:0' shape=(2, 256) dtype=float32>,\n",
       " <tf.Tensor 'Squeeze_292:0' shape=(2, 256) dtype=float32>,\n",
       " <tf.Tensor 'Squeeze_293:0' shape=(2, 256) dtype=float32>,\n",
       " <tf.Tensor 'Squeeze_294:0' shape=(2, 256) dtype=float32>,\n",
       " <tf.Tensor 'Squeeze_295:0' shape=(2, 256) dtype=float32>,\n",
       " <tf.Tensor 'Squeeze_296:0' shape=(2, 256) dtype=float32>,\n",
       " <tf.Tensor 'Squeeze_297:0' shape=(2, 256) dtype=float32>,\n",
       " <tf.Tensor 'Squeeze_298:0' shape=(2, 256) dtype=float32>,\n",
       " <tf.Tensor 'Squeeze_299:0' shape=(2, 256) dtype=float32>,\n",
       " <tf.Tensor 'Squeeze_300:0' shape=(2, 256) dtype=float32>,\n",
       " <tf.Tensor 'Squeeze_301:0' shape=(2, 256) dtype=float32>,\n",
       " <tf.Tensor 'Squeeze_302:0' shape=(2, 256) dtype=float32>,\n",
       " <tf.Tensor 'Squeeze_303:0' shape=(2, 256) dtype=float32>,\n",
       " <tf.Tensor 'Squeeze_304:0' shape=(2, 256) dtype=float32>,\n",
       " <tf.Tensor 'Squeeze_305:0' shape=(2, 256) dtype=float32>,\n",
       " <tf.Tensor 'Squeeze_306:0' shape=(2, 256) dtype=float32>,\n",
       " <tf.Tensor 'Squeeze_307:0' shape=(2, 256) dtype=float32>,\n",
       " <tf.Tensor 'Squeeze_308:0' shape=(2, 256) dtype=float32>,\n",
       " <tf.Tensor 'Squeeze_309:0' shape=(2, 256) dtype=float32>,\n",
       " <tf.Tensor 'Squeeze_310:0' shape=(2, 256) dtype=float32>,\n",
       " <tf.Tensor 'Squeeze_311:0' shape=(2, 256) dtype=float32>,\n",
       " <tf.Tensor 'Squeeze_312:0' shape=(2, 256) dtype=float32>,\n",
       " <tf.Tensor 'Squeeze_313:0' shape=(2, 256) dtype=float32>,\n",
       " <tf.Tensor 'Squeeze_314:0' shape=(2, 256) dtype=float32>,\n",
       " <tf.Tensor 'Squeeze_315:0' shape=(2, 256) dtype=float32>,\n",
       " <tf.Tensor 'Squeeze_316:0' shape=(2, 256) dtype=float32>,\n",
       " <tf.Tensor 'Squeeze_317:0' shape=(2, 256) dtype=float32>,\n",
       " <tf.Tensor 'Squeeze_318:0' shape=(2, 256) dtype=float32>,\n",
       " <tf.Tensor 'Squeeze_319:0' shape=(2, 256) dtype=float32>,\n",
       " <tf.Tensor 'Squeeze_320:0' shape=(2, 256) dtype=float32>,\n",
       " <tf.Tensor 'Squeeze_321:0' shape=(2, 256) dtype=float32>,\n",
       " <tf.Tensor 'Squeeze_322:0' shape=(2, 256) dtype=float32>,\n",
       " <tf.Tensor 'Squeeze_323:0' shape=(2, 256) dtype=float32>,\n",
       " <tf.Tensor 'Squeeze_324:0' shape=(2, 256) dtype=float32>,\n",
       " <tf.Tensor 'Squeeze_325:0' shape=(2, 256) dtype=float32>,\n",
       " <tf.Tensor 'Squeeze_326:0' shape=(2, 256) dtype=float32>,\n",
       " <tf.Tensor 'Squeeze_327:0' shape=(2, 256) dtype=float32>,\n",
       " <tf.Tensor 'Squeeze_328:0' shape=(2, 256) dtype=float32>,\n",
       " <tf.Tensor 'Squeeze_329:0' shape=(2, 256) dtype=float32>,\n",
       " <tf.Tensor 'Squeeze_330:0' shape=(2, 256) dtype=float32>,\n",
       " <tf.Tensor 'Squeeze_331:0' shape=(2, 256) dtype=float32>,\n",
       " <tf.Tensor 'Squeeze_332:0' shape=(2, 256) dtype=float32>,\n",
       " <tf.Tensor 'Squeeze_333:0' shape=(2, 256) dtype=float32>,\n",
       " <tf.Tensor 'Squeeze_334:0' shape=(2, 256) dtype=float32>,\n",
       " <tf.Tensor 'Squeeze_335:0' shape=(2, 256) dtype=float32>,\n",
       " <tf.Tensor 'Squeeze_336:0' shape=(2, 256) dtype=float32>,\n",
       " <tf.Tensor 'Squeeze_337:0' shape=(2, 256) dtype=float32>,\n",
       " <tf.Tensor 'Squeeze_338:0' shape=(2, 256) dtype=float32>,\n",
       " <tf.Tensor 'Squeeze_339:0' shape=(2, 256) dtype=float32>,\n",
       " <tf.Tensor 'Squeeze_340:0' shape=(2, 256) dtype=float32>,\n",
       " <tf.Tensor 'Squeeze_341:0' shape=(2, 256) dtype=float32>,\n",
       " <tf.Tensor 'Squeeze_342:0' shape=(2, 256) dtype=float32>,\n",
       " <tf.Tensor 'Squeeze_343:0' shape=(2, 256) dtype=float32>,\n",
       " <tf.Tensor 'Squeeze_344:0' shape=(2, 256) dtype=float32>,\n",
       " <tf.Tensor 'Squeeze_345:0' shape=(2, 256) dtype=float32>,\n",
       " <tf.Tensor 'Squeeze_346:0' shape=(2, 256) dtype=float32>,\n",
       " <tf.Tensor 'Squeeze_347:0' shape=(2, 256) dtype=float32>,\n",
       " <tf.Tensor 'Squeeze_348:0' shape=(2, 256) dtype=float32>,\n",
       " <tf.Tensor 'Squeeze_349:0' shape=(2, 256) dtype=float32>,\n",
       " <tf.Tensor 'Squeeze_350:0' shape=(2, 256) dtype=float32>,\n",
       " <tf.Tensor 'Squeeze_351:0' shape=(2, 256) dtype=float32>,\n",
       " <tf.Tensor 'Squeeze_352:0' shape=(2, 256) dtype=float32>,\n",
       " <tf.Tensor 'Squeeze_353:0' shape=(2, 256) dtype=float32>,\n",
       " <tf.Tensor 'Squeeze_354:0' shape=(2, 256) dtype=float32>,\n",
       " <tf.Tensor 'Squeeze_355:0' shape=(2, 256) dtype=float32>,\n",
       " <tf.Tensor 'Squeeze_356:0' shape=(2, 256) dtype=float32>,\n",
       " <tf.Tensor 'Squeeze_357:0' shape=(2, 256) dtype=float32>,\n",
       " <tf.Tensor 'Squeeze_358:0' shape=(2, 256) dtype=float32>,\n",
       " <tf.Tensor 'Squeeze_359:0' shape=(2, 256) dtype=float32>,\n",
       " <tf.Tensor 'Squeeze_360:0' shape=(2, 256) dtype=float32>,\n",
       " <tf.Tensor 'Squeeze_361:0' shape=(2, 256) dtype=float32>,\n",
       " <tf.Tensor 'Squeeze_362:0' shape=(2, 256) dtype=float32>,\n",
       " <tf.Tensor 'Squeeze_363:0' shape=(2, 256) dtype=float32>,\n",
       " <tf.Tensor 'Squeeze_364:0' shape=(2, 256) dtype=float32>,\n",
       " <tf.Tensor 'Squeeze_365:0' shape=(2, 256) dtype=float32>,\n",
       " <tf.Tensor 'Squeeze_366:0' shape=(2, 256) dtype=float32>,\n",
       " <tf.Tensor 'Squeeze_367:0' shape=(2, 256) dtype=float32>,\n",
       " <tf.Tensor 'Squeeze_368:0' shape=(2, 256) dtype=float32>,\n",
       " <tf.Tensor 'Squeeze_369:0' shape=(2, 256) dtype=float32>,\n",
       " <tf.Tensor 'Squeeze_370:0' shape=(2, 256) dtype=float32>,\n",
       " <tf.Tensor 'Squeeze_371:0' shape=(2, 256) dtype=float32>,\n",
       " <tf.Tensor 'Squeeze_372:0' shape=(2, 256) dtype=float32>,\n",
       " <tf.Tensor 'Squeeze_373:0' shape=(2, 256) dtype=float32>,\n",
       " <tf.Tensor 'Squeeze_374:0' shape=(2, 256) dtype=float32>,\n",
       " <tf.Tensor 'Squeeze_375:0' shape=(2, 256) dtype=float32>,\n",
       " <tf.Tensor 'Squeeze_376:0' shape=(2, 256) dtype=float32>,\n",
       " <tf.Tensor 'Squeeze_377:0' shape=(2, 256) dtype=float32>,\n",
       " <tf.Tensor 'Squeeze_378:0' shape=(2, 256) dtype=float32>,\n",
       " <tf.Tensor 'Squeeze_379:0' shape=(2, 256) dtype=float32>,\n",
       " <tf.Tensor 'Squeeze_380:0' shape=(2, 256) dtype=float32>,\n",
       " <tf.Tensor 'Squeeze_381:0' shape=(2, 256) dtype=float32>,\n",
       " <tf.Tensor 'Squeeze_382:0' shape=(2, 256) dtype=float32>,\n",
       " <tf.Tensor 'Squeeze_383:0' shape=(2, 256) dtype=float32>]"
      ]
     },
     "execution_count": 9,
     "metadata": {},
     "output_type": "execute_result"
    }
   ],
   "source": [
    "xs = [tf.squeeze(v, [1]) for v in tf.split(axis=1, num_or_size_splits=128, value=h1)]\n",
    "xs"
   ]
  },
  {
   "cell_type": "code",
   "execution_count": 7,
   "metadata": {},
   "outputs": [
    {
     "data": {
      "text/plain": [
       "<tf.Tensor 'Placeholder_1:0' shape=(256,) dtype=float32>"
      ]
     },
     "execution_count": 7,
     "metadata": {},
     "output_type": "execute_result"
    }
   ],
   "source": [
    "M = tf.placeholder(tf.float32, [256])\n",
    "M"
   ]
  },
  {
   "cell_type": "code",
   "execution_count": 10,
   "metadata": {},
   "outputs": [
    {
     "data": {
      "text/plain": [
       "[<tf.Tensor 'Squeeze_384:0' shape=(2, 1) dtype=float32>,\n",
       " <tf.Tensor 'Squeeze_385:0' shape=(2, 1) dtype=float32>,\n",
       " <tf.Tensor 'Squeeze_386:0' shape=(2, 1) dtype=float32>,\n",
       " <tf.Tensor 'Squeeze_387:0' shape=(2, 1) dtype=float32>,\n",
       " <tf.Tensor 'Squeeze_388:0' shape=(2, 1) dtype=float32>,\n",
       " <tf.Tensor 'Squeeze_389:0' shape=(2, 1) dtype=float32>,\n",
       " <tf.Tensor 'Squeeze_390:0' shape=(2, 1) dtype=float32>,\n",
       " <tf.Tensor 'Squeeze_391:0' shape=(2, 1) dtype=float32>,\n",
       " <tf.Tensor 'Squeeze_392:0' shape=(2, 1) dtype=float32>,\n",
       " <tf.Tensor 'Squeeze_393:0' shape=(2, 1) dtype=float32>,\n",
       " <tf.Tensor 'Squeeze_394:0' shape=(2, 1) dtype=float32>,\n",
       " <tf.Tensor 'Squeeze_395:0' shape=(2, 1) dtype=float32>,\n",
       " <tf.Tensor 'Squeeze_396:0' shape=(2, 1) dtype=float32>,\n",
       " <tf.Tensor 'Squeeze_397:0' shape=(2, 1) dtype=float32>,\n",
       " <tf.Tensor 'Squeeze_398:0' shape=(2, 1) dtype=float32>,\n",
       " <tf.Tensor 'Squeeze_399:0' shape=(2, 1) dtype=float32>,\n",
       " <tf.Tensor 'Squeeze_400:0' shape=(2, 1) dtype=float32>,\n",
       " <tf.Tensor 'Squeeze_401:0' shape=(2, 1) dtype=float32>,\n",
       " <tf.Tensor 'Squeeze_402:0' shape=(2, 1) dtype=float32>,\n",
       " <tf.Tensor 'Squeeze_403:0' shape=(2, 1) dtype=float32>,\n",
       " <tf.Tensor 'Squeeze_404:0' shape=(2, 1) dtype=float32>,\n",
       " <tf.Tensor 'Squeeze_405:0' shape=(2, 1) dtype=float32>,\n",
       " <tf.Tensor 'Squeeze_406:0' shape=(2, 1) dtype=float32>,\n",
       " <tf.Tensor 'Squeeze_407:0' shape=(2, 1) dtype=float32>,\n",
       " <tf.Tensor 'Squeeze_408:0' shape=(2, 1) dtype=float32>,\n",
       " <tf.Tensor 'Squeeze_409:0' shape=(2, 1) dtype=float32>,\n",
       " <tf.Tensor 'Squeeze_410:0' shape=(2, 1) dtype=float32>,\n",
       " <tf.Tensor 'Squeeze_411:0' shape=(2, 1) dtype=float32>,\n",
       " <tf.Tensor 'Squeeze_412:0' shape=(2, 1) dtype=float32>,\n",
       " <tf.Tensor 'Squeeze_413:0' shape=(2, 1) dtype=float32>,\n",
       " <tf.Tensor 'Squeeze_414:0' shape=(2, 1) dtype=float32>,\n",
       " <tf.Tensor 'Squeeze_415:0' shape=(2, 1) dtype=float32>,\n",
       " <tf.Tensor 'Squeeze_416:0' shape=(2, 1) dtype=float32>,\n",
       " <tf.Tensor 'Squeeze_417:0' shape=(2, 1) dtype=float32>,\n",
       " <tf.Tensor 'Squeeze_418:0' shape=(2, 1) dtype=float32>,\n",
       " <tf.Tensor 'Squeeze_419:0' shape=(2, 1) dtype=float32>,\n",
       " <tf.Tensor 'Squeeze_420:0' shape=(2, 1) dtype=float32>,\n",
       " <tf.Tensor 'Squeeze_421:0' shape=(2, 1) dtype=float32>,\n",
       " <tf.Tensor 'Squeeze_422:0' shape=(2, 1) dtype=float32>,\n",
       " <tf.Tensor 'Squeeze_423:0' shape=(2, 1) dtype=float32>,\n",
       " <tf.Tensor 'Squeeze_424:0' shape=(2, 1) dtype=float32>,\n",
       " <tf.Tensor 'Squeeze_425:0' shape=(2, 1) dtype=float32>,\n",
       " <tf.Tensor 'Squeeze_426:0' shape=(2, 1) dtype=float32>,\n",
       " <tf.Tensor 'Squeeze_427:0' shape=(2, 1) dtype=float32>,\n",
       " <tf.Tensor 'Squeeze_428:0' shape=(2, 1) dtype=float32>,\n",
       " <tf.Tensor 'Squeeze_429:0' shape=(2, 1) dtype=float32>,\n",
       " <tf.Tensor 'Squeeze_430:0' shape=(2, 1) dtype=float32>,\n",
       " <tf.Tensor 'Squeeze_431:0' shape=(2, 1) dtype=float32>,\n",
       " <tf.Tensor 'Squeeze_432:0' shape=(2, 1) dtype=float32>,\n",
       " <tf.Tensor 'Squeeze_433:0' shape=(2, 1) dtype=float32>,\n",
       " <tf.Tensor 'Squeeze_434:0' shape=(2, 1) dtype=float32>,\n",
       " <tf.Tensor 'Squeeze_435:0' shape=(2, 1) dtype=float32>,\n",
       " <tf.Tensor 'Squeeze_436:0' shape=(2, 1) dtype=float32>,\n",
       " <tf.Tensor 'Squeeze_437:0' shape=(2, 1) dtype=float32>,\n",
       " <tf.Tensor 'Squeeze_438:0' shape=(2, 1) dtype=float32>,\n",
       " <tf.Tensor 'Squeeze_439:0' shape=(2, 1) dtype=float32>,\n",
       " <tf.Tensor 'Squeeze_440:0' shape=(2, 1) dtype=float32>,\n",
       " <tf.Tensor 'Squeeze_441:0' shape=(2, 1) dtype=float32>,\n",
       " <tf.Tensor 'Squeeze_442:0' shape=(2, 1) dtype=float32>,\n",
       " <tf.Tensor 'Squeeze_443:0' shape=(2, 1) dtype=float32>,\n",
       " <tf.Tensor 'Squeeze_444:0' shape=(2, 1) dtype=float32>,\n",
       " <tf.Tensor 'Squeeze_445:0' shape=(2, 1) dtype=float32>,\n",
       " <tf.Tensor 'Squeeze_446:0' shape=(2, 1) dtype=float32>,\n",
       " <tf.Tensor 'Squeeze_447:0' shape=(2, 1) dtype=float32>,\n",
       " <tf.Tensor 'Squeeze_448:0' shape=(2, 1) dtype=float32>,\n",
       " <tf.Tensor 'Squeeze_449:0' shape=(2, 1) dtype=float32>,\n",
       " <tf.Tensor 'Squeeze_450:0' shape=(2, 1) dtype=float32>,\n",
       " <tf.Tensor 'Squeeze_451:0' shape=(2, 1) dtype=float32>,\n",
       " <tf.Tensor 'Squeeze_452:0' shape=(2, 1) dtype=float32>,\n",
       " <tf.Tensor 'Squeeze_453:0' shape=(2, 1) dtype=float32>,\n",
       " <tf.Tensor 'Squeeze_454:0' shape=(2, 1) dtype=float32>,\n",
       " <tf.Tensor 'Squeeze_455:0' shape=(2, 1) dtype=float32>,\n",
       " <tf.Tensor 'Squeeze_456:0' shape=(2, 1) dtype=float32>,\n",
       " <tf.Tensor 'Squeeze_457:0' shape=(2, 1) dtype=float32>,\n",
       " <tf.Tensor 'Squeeze_458:0' shape=(2, 1) dtype=float32>,\n",
       " <tf.Tensor 'Squeeze_459:0' shape=(2, 1) dtype=float32>,\n",
       " <tf.Tensor 'Squeeze_460:0' shape=(2, 1) dtype=float32>,\n",
       " <tf.Tensor 'Squeeze_461:0' shape=(2, 1) dtype=float32>,\n",
       " <tf.Tensor 'Squeeze_462:0' shape=(2, 1) dtype=float32>,\n",
       " <tf.Tensor 'Squeeze_463:0' shape=(2, 1) dtype=float32>,\n",
       " <tf.Tensor 'Squeeze_464:0' shape=(2, 1) dtype=float32>,\n",
       " <tf.Tensor 'Squeeze_465:0' shape=(2, 1) dtype=float32>,\n",
       " <tf.Tensor 'Squeeze_466:0' shape=(2, 1) dtype=float32>,\n",
       " <tf.Tensor 'Squeeze_467:0' shape=(2, 1) dtype=float32>,\n",
       " <tf.Tensor 'Squeeze_468:0' shape=(2, 1) dtype=float32>,\n",
       " <tf.Tensor 'Squeeze_469:0' shape=(2, 1) dtype=float32>,\n",
       " <tf.Tensor 'Squeeze_470:0' shape=(2, 1) dtype=float32>,\n",
       " <tf.Tensor 'Squeeze_471:0' shape=(2, 1) dtype=float32>,\n",
       " <tf.Tensor 'Squeeze_472:0' shape=(2, 1) dtype=float32>,\n",
       " <tf.Tensor 'Squeeze_473:0' shape=(2, 1) dtype=float32>,\n",
       " <tf.Tensor 'Squeeze_474:0' shape=(2, 1) dtype=float32>,\n",
       " <tf.Tensor 'Squeeze_475:0' shape=(2, 1) dtype=float32>,\n",
       " <tf.Tensor 'Squeeze_476:0' shape=(2, 1) dtype=float32>,\n",
       " <tf.Tensor 'Squeeze_477:0' shape=(2, 1) dtype=float32>,\n",
       " <tf.Tensor 'Squeeze_478:0' shape=(2, 1) dtype=float32>,\n",
       " <tf.Tensor 'Squeeze_479:0' shape=(2, 1) dtype=float32>,\n",
       " <tf.Tensor 'Squeeze_480:0' shape=(2, 1) dtype=float32>,\n",
       " <tf.Tensor 'Squeeze_481:0' shape=(2, 1) dtype=float32>,\n",
       " <tf.Tensor 'Squeeze_482:0' shape=(2, 1) dtype=float32>,\n",
       " <tf.Tensor 'Squeeze_483:0' shape=(2, 1) dtype=float32>,\n",
       " <tf.Tensor 'Squeeze_484:0' shape=(2, 1) dtype=float32>,\n",
       " <tf.Tensor 'Squeeze_485:0' shape=(2, 1) dtype=float32>,\n",
       " <tf.Tensor 'Squeeze_486:0' shape=(2, 1) dtype=float32>,\n",
       " <tf.Tensor 'Squeeze_487:0' shape=(2, 1) dtype=float32>,\n",
       " <tf.Tensor 'Squeeze_488:0' shape=(2, 1) dtype=float32>,\n",
       " <tf.Tensor 'Squeeze_489:0' shape=(2, 1) dtype=float32>,\n",
       " <tf.Tensor 'Squeeze_490:0' shape=(2, 1) dtype=float32>,\n",
       " <tf.Tensor 'Squeeze_491:0' shape=(2, 1) dtype=float32>,\n",
       " <tf.Tensor 'Squeeze_492:0' shape=(2, 1) dtype=float32>,\n",
       " <tf.Tensor 'Squeeze_493:0' shape=(2, 1) dtype=float32>,\n",
       " <tf.Tensor 'Squeeze_494:0' shape=(2, 1) dtype=float32>,\n",
       " <tf.Tensor 'Squeeze_495:0' shape=(2, 1) dtype=float32>,\n",
       " <tf.Tensor 'Squeeze_496:0' shape=(2, 1) dtype=float32>,\n",
       " <tf.Tensor 'Squeeze_497:0' shape=(2, 1) dtype=float32>,\n",
       " <tf.Tensor 'Squeeze_498:0' shape=(2, 1) dtype=float32>,\n",
       " <tf.Tensor 'Squeeze_499:0' shape=(2, 1) dtype=float32>,\n",
       " <tf.Tensor 'Squeeze_500:0' shape=(2, 1) dtype=float32>,\n",
       " <tf.Tensor 'Squeeze_501:0' shape=(2, 1) dtype=float32>,\n",
       " <tf.Tensor 'Squeeze_502:0' shape=(2, 1) dtype=float32>,\n",
       " <tf.Tensor 'Squeeze_503:0' shape=(2, 1) dtype=float32>,\n",
       " <tf.Tensor 'Squeeze_504:0' shape=(2, 1) dtype=float32>,\n",
       " <tf.Tensor 'Squeeze_505:0' shape=(2, 1) dtype=float32>,\n",
       " <tf.Tensor 'Squeeze_506:0' shape=(2, 1) dtype=float32>,\n",
       " <tf.Tensor 'Squeeze_507:0' shape=(2, 1) dtype=float32>,\n",
       " <tf.Tensor 'Squeeze_508:0' shape=(2, 1) dtype=float32>,\n",
       " <tf.Tensor 'Squeeze_509:0' shape=(2, 1) dtype=float32>,\n",
       " <tf.Tensor 'Squeeze_510:0' shape=(2, 1) dtype=float32>,\n",
       " <tf.Tensor 'Squeeze_511:0' shape=(2, 1) dtype=float32>]"
      ]
     },
     "execution_count": 10,
     "metadata": {},
     "output_type": "execute_result"
    }
   ],
   "source": [
    "ms = [tf.squeeze(v, [1]) for v in tf.split(axis=1, num_or_size_splits=128, \n",
    "                                           value=tf.reshape(M, [2,128,-1]))]\n",
    "ms"
   ]
  },
  {
   "cell_type": "code",
   "execution_count": 11,
   "metadata": {},
   "outputs": [
    {
     "data": {
      "text/plain": [
       "<tf.Tensor 'Placeholder_2:0' shape=(2, 512) dtype=float32>"
      ]
     },
     "execution_count": 11,
     "metadata": {},
     "output_type": "execute_result"
    }
   ],
   "source": [
    "S = tf.placeholder(tf.float32, [2, 512])\n",
    "S"
   ]
  },
  {
   "cell_type": "code",
   "execution_count": 19,
   "metadata": {},
   "outputs": [
    {
     "data": {
      "text/plain": [
       "<tf.Tensor 'split_8:1' shape=(2, 256) dtype=float32>"
      ]
     },
     "execution_count": 19,
     "metadata": {},
     "output_type": "execute_result"
    }
   ],
   "source": [
    "c, h = tf.split(axis=1, num_or_size_splits=2, value=S)\n",
    "h"
   ]
  },
  {
   "cell_type": "code",
   "execution_count": 24,
   "metadata": {},
   "outputs": [
    {
     "data": {
      "text/plain": [
       "TensorShape([Dimension(2), Dimension(256)])"
      ]
     },
     "execution_count": 24,
     "metadata": {},
     "output_type": "execute_result"
    }
   ],
   "source": [
    "xs[0].get_shape()"
   ]
  },
  {
   "cell_type": "code",
   "execution_count": 23,
   "metadata": {},
   "outputs": [
    {
     "data": {
      "text/plain": [
       "<tf.Tensor 'sub_1:0' shape=(2, 1) dtype=float32>"
      ]
     },
     "execution_count": 23,
     "metadata": {},
     "output_type": "execute_result"
    }
   ],
   "source": [
    "m = ms[0]\n",
    "x = xs[0]\n",
    "(1-m)"
   ]
  },
  {
   "cell_type": "code",
   "execution_count": 26,
   "metadata": {},
   "outputs": [
    {
     "data": {
      "text/plain": [
       "<tf.Variable 'wx:0' shape=(256, 1024) dtype=float32_ref>"
      ]
     },
     "execution_count": 26,
     "metadata": {},
     "output_type": "execute_result"
    }
   ],
   "source": [
    "wx = tf.get_variable('wx', [256, 1024])\n",
    "wx"
   ]
  },
  {
   "cell_type": "code",
   "execution_count": 28,
   "metadata": {},
   "outputs": [
    {
     "data": {
      "text/plain": [
       "<tf.Tensor 'add:0' shape=(2, 1024) dtype=float32>"
      ]
     },
     "execution_count": 28,
     "metadata": {},
     "output_type": "execute_result"
    }
   ],
   "source": [
    "tf.matmul(x, wx) + tf.matmul(x, wx)"
   ]
  },
  {
   "cell_type": "code",
   "execution_count": null,
   "metadata": {
    "collapsed": true
   },
   "outputs": [],
   "source": []
  }
 ],
 "metadata": {
  "kernelspec": {
   "display_name": "Python 3",
   "language": "python",
   "name": "python3"
  },
  "language_info": {
   "codemirror_mode": {
    "name": "ipython",
    "version": 3
   },
   "file_extension": ".py",
   "mimetype": "text/x-python",
   "name": "python",
   "nbconvert_exporter": "python",
   "pygments_lexer": "ipython3",
   "version": "3.6.3"
  }
 },
 "nbformat": 4,
 "nbformat_minor": 2
}
